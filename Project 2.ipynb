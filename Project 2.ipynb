{
 "cells": [
  {
   "cell_type": "markdown",
   "metadata": {},
   "source": [
    "<a href=\"https://datatopics.worldbank.org/world-development-indicators/\"><img src=\"https://datatopics.worldbank.org/world-development-indicators/img/logo-wb-header-en.svg\" width=\"400\" align=\"center\"></a>\n",
    "\n",
    "<h1><center>Impact of World Population Life Expectancy</center></h1>"
   ]
  },
  {
   "cell_type": "markdown",
   "metadata": {},
   "source": [
    "> ###   `Introduction`"
   ]
  },
  {
   "cell_type": "markdown",
   "metadata": {},
   "source": [
    "With using **World Development Explorer** and World bank data we try to find out about life expectancy , comparing the countries in accordance with population during a time period of 2010 to 2018. It is important to know how health issues impact the life expectancy.Why is life expectancy is less ? How to improve it? \n",
    "\n",
    "Can we improve it by reducing population and having healthy food? Based on the world development explorer, finding out the health issue and food improvement.A Problem Analysis investigates a situation/problem in order to allow the researcher to understand more fully the problem, in order to recommend practical solutions for solving it.\n",
    "\n",
    "In addition, a Problem Analysis determines the degree of the problem and if the problem is a genuinely related to the specific site under investigated. According to World Development Explorer we try to find out similarities and differences between four different countries India,Bangladesh, Unites States and Germany selected from different regions."
   ]
  },
  {
   "cell_type": "markdown",
   "metadata": {},
   "source": [
    "<h1>Table of contents</h1>\n",
    "\n",
    "<div class=\"alert alert-block alert-info\" style=\"margin-top: 20px\">\n",
    "    <ul>\n",
    "        <li><a href=\"#random_generated_dataset\">Importing the World development center data</a></li>\n",
    "            <ol>\n",
    "                <li><a href=\"#setting_up_K_means\">Dataset</a></li>\n",
    "                <li><a href=\"#creating_visual_plot\">Viewing the data</a></li>\n",
    "            </ol>\n",
    "        <li><a href=\"#customer_segmentation_K_means\">Visuvalizing the data</a></li>\n",
    "            <ol>\n",
    "                <li><a href=\"#pre_processing\">Life expectancy at birth versus GDP(current                          US $) with respect to total population</a></li>\n",
    "                <li><a href=\"#modeling\">Year vs GDP</a></li>\n",
    "                <li><a href=\"#insights\">Life Expectancy with Countries</a></li>\n",
    "            </ol>\n",
    "    </ul>\n",
    "</div>\n",
    "<br>\n",
    "<hr>"
   ]
  },
  {
   "cell_type": "markdown",
   "metadata": {},
   "source": [
    "#### `Importing the Libraries`"
   ]
  },
  {
   "cell_type": "code",
   "execution_count": 4,
   "metadata": {},
   "outputs": [],
   "source": [
    "import pandas as pd"
   ]
  },
  {
   "cell_type": "code",
   "execution_count": 5,
   "metadata": {},
   "outputs": [],
   "source": [
    "data=pd.read_csv(\"charts/wdi_data (5).csv\")"
   ]
  },
  {
   "cell_type": "code",
   "execution_count": 6,
   "metadata": {
    "scrolled": true
   },
   "outputs": [
    {
     "data": {
      "text/html": [
       "<div>\n",
       "<style scoped>\n",
       "    .dataframe tbody tr th:only-of-type {\n",
       "        vertical-align: middle;\n",
       "    }\n",
       "\n",
       "    .dataframe tbody tr th {\n",
       "        vertical-align: top;\n",
       "    }\n",
       "\n",
       "    .dataframe thead th {\n",
       "        text-align: right;\n",
       "    }\n",
       "</style>\n",
       "<table border=\"1\" class=\"dataframe\">\n",
       "  <thead>\n",
       "    <tr style=\"text-align: right;\">\n",
       "      <th></th>\n",
       "      <th>Unnamed: 0</th>\n",
       "      <th>Year</th>\n",
       "      <th>SP.POP.TOTL</th>\n",
       "      <th>NY.GDP.MKTP.CD</th>\n",
       "      <th>SP.DYN.LE00.IN</th>\n",
       "      <th>Country Code</th>\n",
       "      <th>Country Name</th>\n",
       "      <th>Region</th>\n",
       "      <th>Income Group</th>\n",
       "      <th>Lending Type</th>\n",
       "    </tr>\n",
       "  </thead>\n",
       "  <tbody>\n",
       "    <tr>\n",
       "      <th>0</th>\n",
       "      <td>0</td>\n",
       "      <td>2010</td>\n",
       "      <td>147575430</td>\n",
       "      <td>1.152791e+11</td>\n",
       "      <td>69.881</td>\n",
       "      <td>BGD</td>\n",
       "      <td>Bangladesh</td>\n",
       "      <td>South Asia</td>\n",
       "      <td>Lower middle income</td>\n",
       "      <td>IDA</td>\n",
       "    </tr>\n",
       "    <tr>\n",
       "      <th>1</th>\n",
       "      <td>1</td>\n",
       "      <td>2011</td>\n",
       "      <td>149273778</td>\n",
       "      <td>1.286379e+11</td>\n",
       "      <td>70.256</td>\n",
       "      <td>BGD</td>\n",
       "      <td>Bangladesh</td>\n",
       "      <td>South Asia</td>\n",
       "      <td>Lower middle income</td>\n",
       "      <td>IDA</td>\n",
       "    </tr>\n",
       "    <tr>\n",
       "      <th>2</th>\n",
       "      <td>2</td>\n",
       "      <td>2012</td>\n",
       "      <td>151007807</td>\n",
       "      <td>1.333557e+11</td>\n",
       "      <td>70.606</td>\n",
       "      <td>BGD</td>\n",
       "      <td>Bangladesh</td>\n",
       "      <td>South Asia</td>\n",
       "      <td>Lower middle income</td>\n",
       "      <td>IDA</td>\n",
       "    </tr>\n",
       "    <tr>\n",
       "      <th>3</th>\n",
       "      <td>3</td>\n",
       "      <td>2013</td>\n",
       "      <td>152764676</td>\n",
       "      <td>1.499905e+11</td>\n",
       "      <td>70.930</td>\n",
       "      <td>BGD</td>\n",
       "      <td>Bangladesh</td>\n",
       "      <td>South Asia</td>\n",
       "      <td>Lower middle income</td>\n",
       "      <td>IDA</td>\n",
       "    </tr>\n",
       "    <tr>\n",
       "      <th>4</th>\n",
       "      <td>4</td>\n",
       "      <td>2014</td>\n",
       "      <td>154520167</td>\n",
       "      <td>1.728855e+11</td>\n",
       "      <td>71.231</td>\n",
       "      <td>BGD</td>\n",
       "      <td>Bangladesh</td>\n",
       "      <td>South Asia</td>\n",
       "      <td>Lower middle income</td>\n",
       "      <td>IDA</td>\n",
       "    </tr>\n",
       "  </tbody>\n",
       "</table>\n",
       "</div>"
      ],
      "text/plain": [
       "   Unnamed: 0  Year  SP.POP.TOTL  NY.GDP.MKTP.CD  SP.DYN.LE00.IN Country Code  \\\n",
       "0           0  2010    147575430    1.152791e+11          69.881          BGD   \n",
       "1           1  2011    149273778    1.286379e+11          70.256          BGD   \n",
       "2           2  2012    151007807    1.333557e+11          70.606          BGD   \n",
       "3           3  2013    152764676    1.499905e+11          70.930          BGD   \n",
       "4           4  2014    154520167    1.728855e+11          71.231          BGD   \n",
       "\n",
       "  Country Name      Region         Income Group Lending Type  \n",
       "0   Bangladesh  South Asia  Lower middle income          IDA  \n",
       "1   Bangladesh  South Asia  Lower middle income          IDA  \n",
       "2   Bangladesh  South Asia  Lower middle income          IDA  \n",
       "3   Bangladesh  South Asia  Lower middle income          IDA  \n",
       "4   Bangladesh  South Asia  Lower middle income          IDA  "
      ]
     },
     "execution_count": 6,
     "metadata": {},
     "output_type": "execute_result"
    }
   ],
   "source": [
    "data.head()"
   ]
  },
  {
   "cell_type": "markdown",
   "metadata": {},
   "source": [
    "In our first analysis (PLOT 1) we see life expectancy at birth versus GDP(current US $) with respect to total population.Population comparing with the country wise. India has the highest population as well as GDP of less then 1.7T and life expectancy between 65-70 years.United states has highest GDP around 14T and life expectancy of 79 years.Germany population is less compared to other countries. And life expectancy is 81 years and GDP is between 3.3T.Bangladesh has less GDP compared to other countries around 115B and life expectancy is 70 years."
   ]
  },
  {
   "cell_type": "code",
   "execution_count": null,
   "metadata": {},
   "outputs": [],
   "source": []
  },
  {
   "cell_type": "code",
   "execution_count": null,
   "metadata": {},
   "outputs": [],
   "source": []
  }
 ],
 "metadata": {
  "kernelspec": {
   "display_name": "Python 3",
   "language": "python",
   "name": "python3"
  },
  "language_info": {
   "codemirror_mode": {
    "name": "ipython",
    "version": 3
   },
   "file_extension": ".py",
   "mimetype": "text/x-python",
   "name": "python",
   "nbconvert_exporter": "python",
   "pygments_lexer": "ipython3",
   "version": "3.7.3"
  }
 },
 "nbformat": 4,
 "nbformat_minor": 2
}
