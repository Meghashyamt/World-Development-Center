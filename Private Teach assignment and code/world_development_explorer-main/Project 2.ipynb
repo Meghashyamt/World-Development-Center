{
 "cells": [
  {
   "cell_type": "markdown",
   "metadata": {},
   "source": [
    "<a href=\"https://datatopics.worldbank.org/world-development-indicators/\"><img src=\"https://datatopics.worldbank.org/world-development-indicators/img/logo-wb-header-en.svg\" width=\"400\" align=\"center\"></a>\n",
    "\n",
    "<h1><center>Impact of World Population Life Expectancy</center></h1>"
   ]
  },
  {
   "cell_type": "markdown",
   "metadata": {},
   "source": [
    "> ###   `Introduction`"
   ]
  },
  {
   "cell_type": "markdown",
   "metadata": {},
   "source": [
    "With using **World Development Explorer** and World bank data we try to find out about life expectancy , comparing the countries in accordance with population during a time period of 2010 to 2018. It is important to know how health issues impact the life expectancy.Why is life expectancy is less ? How to improve it? \n",
    "\n",
    "Can we improve it by reducing population and having healthy food? Based on the world development explorer, finding out the health issue and food improvement.A Problem Analysis investigates a situation/problem in order to allow the researcher to understand more fully the problem, in order to recommend practical solutions for solving it.\n",
    "\n",
    "In addition, a Problem Analysis determines the degree of the problem and if the problem is a genuinely related to the specific site under investigated. According to World Development Explorer we try to find out similarities and differences between four different countries India,Bangladesh, Unites States and Germany selected from different regions."
   ]
  },
  {
   "cell_type": "markdown",
   "metadata": {},
   "source": [
    "<h1>Table of contents</h1>\n",
    "\n",
    "<div class=\"alert alert-block alert-info\" style=\"margin-top: 20px\">\n",
    "    <ul>\n",
    "        <li><a href=\"#random_generated_dataset\">Importing the World development center data</a></li>\n",
    "            <ol>\n",
    "                <li><a href=\"#setting_up_K_means\">Dataset</a></li>\n",
    "                <li><a href=\"#creating_visual_plot\">Viewing the data</a></li>\n",
    "            </ol>\n",
    "        <li><a href=\"#customer_segmentation_K_means\">Visuvalizing the data</a></li>\n",
    "            <ol>\n",
    "                <li><a href=\"#pre_processing\">Life expectancy at birth versus GDP(current                          US $) with respect to total population</a></li>\n",
    "                <li><a href=\"#modeling\">Year vs GDP</a></li>\n",
    "                <li><a href=\"#insights\">Life Expectancy with Countries</a></li>\n",
    "            </ol>\n",
    "    </ul>\n",
    "</div>\n",
    "<br>\n",
    "<hr>"
   ]
  },
  {
   "cell_type": "markdown",
   "metadata": {},
   "source": [
    "#### `Importing the Libraries`"
   ]
  },
  {
   "cell_type": "code",
   "execution_count": 1,
   "metadata": {},
   "outputs": [],
   "source": [
    "import pandas as pd"
   ]
  },
  {
   "cell_type": "code",
   "execution_count": 8,
   "metadata": {},
   "outputs": [],
   "source": [
    "data=pd.read_csv(\"https://raw.githubusercontent.com/vyshnavinimmani/world_development_explorer/main/charts/wdi_data%20(5).csv\",index_col='Unnamed: 0')"
   ]
  },
  {
   "cell_type": "code",
   "execution_count": 9,
   "metadata": {},
   "outputs": [
    {
     "data": {
      "text/html": [
       "<div>\n",
       "<style scoped>\n",
       "    .dataframe tbody tr th:only-of-type {\n",
       "        vertical-align: middle;\n",
       "    }\n",
       "\n",
       "    .dataframe tbody tr th {\n",
       "        vertical-align: top;\n",
       "    }\n",
       "\n",
       "    .dataframe thead th {\n",
       "        text-align: right;\n",
       "    }\n",
       "</style>\n",
       "<table border=\"1\" class=\"dataframe\">\n",
       "  <thead>\n",
       "    <tr style=\"text-align: right;\">\n",
       "      <th></th>\n",
       "      <th>Year</th>\n",
       "      <th>SP.POP.TOTL</th>\n",
       "      <th>NY.GDP.MKTP.CD</th>\n",
       "      <th>SP.DYN.LE00.IN</th>\n",
       "      <th>Country Code</th>\n",
       "      <th>Country Name</th>\n",
       "      <th>Region</th>\n",
       "      <th>Income Group</th>\n",
       "      <th>Lending Type</th>\n",
       "    </tr>\n",
       "  </thead>\n",
       "  <tbody>\n",
       "    <tr>\n",
       "      <th>0</th>\n",
       "      <td>2010</td>\n",
       "      <td>147575430</td>\n",
       "      <td>1.152791e+11</td>\n",
       "      <td>69.881</td>\n",
       "      <td>BGD</td>\n",
       "      <td>Bangladesh</td>\n",
       "      <td>South Asia</td>\n",
       "      <td>Lower middle income</td>\n",
       "      <td>IDA</td>\n",
       "    </tr>\n",
       "    <tr>\n",
       "      <th>1</th>\n",
       "      <td>2011</td>\n",
       "      <td>149273778</td>\n",
       "      <td>1.286379e+11</td>\n",
       "      <td>70.256</td>\n",
       "      <td>BGD</td>\n",
       "      <td>Bangladesh</td>\n",
       "      <td>South Asia</td>\n",
       "      <td>Lower middle income</td>\n",
       "      <td>IDA</td>\n",
       "    </tr>\n",
       "    <tr>\n",
       "      <th>2</th>\n",
       "      <td>2012</td>\n",
       "      <td>151007807</td>\n",
       "      <td>1.333557e+11</td>\n",
       "      <td>70.606</td>\n",
       "      <td>BGD</td>\n",
       "      <td>Bangladesh</td>\n",
       "      <td>South Asia</td>\n",
       "      <td>Lower middle income</td>\n",
       "      <td>IDA</td>\n",
       "    </tr>\n",
       "    <tr>\n",
       "      <th>3</th>\n",
       "      <td>2013</td>\n",
       "      <td>152764676</td>\n",
       "      <td>1.499905e+11</td>\n",
       "      <td>70.930</td>\n",
       "      <td>BGD</td>\n",
       "      <td>Bangladesh</td>\n",
       "      <td>South Asia</td>\n",
       "      <td>Lower middle income</td>\n",
       "      <td>IDA</td>\n",
       "    </tr>\n",
       "    <tr>\n",
       "      <th>4</th>\n",
       "      <td>2014</td>\n",
       "      <td>154520167</td>\n",
       "      <td>1.728855e+11</td>\n",
       "      <td>71.231</td>\n",
       "      <td>BGD</td>\n",
       "      <td>Bangladesh</td>\n",
       "      <td>South Asia</td>\n",
       "      <td>Lower middle income</td>\n",
       "      <td>IDA</td>\n",
       "    </tr>\n",
       "  </tbody>\n",
       "</table>\n",
       "</div>"
      ],
      "text/plain": [
       "   Year  SP.POP.TOTL  NY.GDP.MKTP.CD  SP.DYN.LE00.IN Country Code  \\\n",
       "0  2010    147575430    1.152791e+11          69.881          BGD   \n",
       "1  2011    149273778    1.286379e+11          70.256          BGD   \n",
       "2  2012    151007807    1.333557e+11          70.606          BGD   \n",
       "3  2013    152764676    1.499905e+11          70.930          BGD   \n",
       "4  2014    154520167    1.728855e+11          71.231          BGD   \n",
       "\n",
       "  Country Name      Region         Income Group Lending Type  \n",
       "0   Bangladesh  South Asia  Lower middle income          IDA  \n",
       "1   Bangladesh  South Asia  Lower middle income          IDA  \n",
       "2   Bangladesh  South Asia  Lower middle income          IDA  \n",
       "3   Bangladesh  South Asia  Lower middle income          IDA  \n",
       "4   Bangladesh  South Asia  Lower middle income          IDA  "
      ]
     },
     "execution_count": 9,
     "metadata": {},
     "output_type": "execute_result"
    }
   ],
   "source": [
    "data.head()"
   ]
  },
  {
   "cell_type": "code",
   "execution_count": 10,
   "metadata": {},
   "outputs": [],
   "source": [
    "#data=pd.read_csv(\"charts/wdi_data (5).csv\",index_col='Unnamed: 0')"
   ]
  },
  {
   "cell_type": "code",
   "execution_count": 5,
   "metadata": {},
   "outputs": [
    {
     "data": {
      "text/plain": [
       "Index(['Year', 'SP.POP.TOTL', 'NY.GDP.MKTP.CD', 'SP.DYN.LE00.IN',\n",
       "       'Country Code', 'Country Name', 'Region', 'Income Group',\n",
       "       'Lending Type'],\n",
       "      dtype='object')"
      ]
     },
     "execution_count": 5,
     "metadata": {},
     "output_type": "execute_result"
    }
   ],
   "source": [
    "data.columns"
   ]
  },
  {
   "cell_type": "code",
   "execution_count": 6,
   "metadata": {},
   "outputs": [
    {
     "data": {
      "text/plain": [
       "array(['Lower middle income', 'High income'], dtype=object)"
      ]
     },
     "execution_count": 6,
     "metadata": {},
     "output_type": "execute_result"
    }
   ],
   "source": [
    "data['Income Group'].unique()"
   ]
  },
  {
   "cell_type": "markdown",
   "metadata": {},
   "source": [
    "In our first analysis (PLOT 1) we see life expectancy at birth versus GDP(current US $) with respect to total population.Population comparing with the country wise. \n",
    "\n",
    "- India has the highest population as well as GDP of less then 1.7T and life expectancy between 65-70 years.\n",
    "\n",
    "- United states has highest GDP around 14T and life expectancy of 79 years.\n",
    "\n",
    "- Germany population is less compared to other countries. And life expectancy is 81 years and GDP is between 3.3T.\n",
    "\n",
    "- Bangladesh has less GDP compared to other countries around 115B and life expectancy is 70 years."
   ]
  },
  {
   "cell_type": "code",
   "execution_count": 13,
   "metadata": {},
   "outputs": [
    {
     "data": {
      "text/plain": [
       "(36, 9)"
      ]
     },
     "execution_count": 13,
     "metadata": {},
     "output_type": "execute_result"
    }
   ],
   "source": [
    "data.shape"
   ]
  },
  {
   "cell_type": "markdown",
   "metadata": {},
   "source": [
    "Gross Domestic Product is increasing each year for India. And the population also with life expectancy is increasing also.Compared to other countries in 2018 ,\n",
    "\n",
    "- Bangladesh has the highest GDP increase of 44.6%.\n",
    "\n",
    "- India is second GDP percentage of 33.2 %.\n",
    "\n",
    "- United States is 15.8% GDP.\n",
    "\n",
    "- Germany is least increase of 6.38% increase in GDP.(PLOT 2)"
   ]
  },
  {
   "cell_type": "code",
   "execution_count": null,
   "metadata": {},
   "outputs": [],
   "source": []
  },
  {
   "cell_type": "markdown",
   "metadata": {},
   "source": [
    "Life expectancy is high in Germany with 26.9 % followed by US with26.1 %. India following Bangladesh with 23 % and 24 % respectively.\n",
    "\n",
    "(PLOT 3)"
   ]
  },
  {
   "cell_type": "markdown",
   "metadata": {},
   "source": [
    "Comparing Life expectancy from 2010 to 2018 with country wise (from PLOT 4)2010- Life Expectancy of Bangladesh rise from 70 years to 72 years. \n",
    "\n",
    "- In 2018, Steep increase in Life Expectancy.Germany Life expectancy in 2010 is 80 years and 2018 is 82 years. Which is Constant and as well as increase in this country.\n",
    "\n",
    "- India Life expectancy in 2010 is 67 years and later on little bit increase in 2018 of 69 years.\n",
    "\n",
    "- United States is like a constant format of 79 years from 2010-2018"
   ]
  },
  {
   "cell_type": "markdown",
   "metadata": {},
   "source": [
    "From PLOT 5 We observe that India with GDP 7% in 2010 and in 2018 it is decreased to 5%.Bangladesh in in steady increase compared from previous year till 2018.\n",
    "\n",
    "- In 2010 is from 4.3% to 2018 of 6.7% increase for Bangladesh.\n",
    "\n",
    "- Germany is decreasing from 2010 till 2018 . 2010 with 4.3% GDP and sudden decrease in 2011 to 2012. \n",
    "\n",
    "- And in 2018 around 1% GDP.United States it is in constant range of GDP from 2010 of 1.8 % and in 2018 of 2.3% GDP."
   ]
  },
  {
   "cell_type": "markdown",
   "metadata": {},
   "source": [
    "When comparing life expectancy within high income countries and low income countries we find that high income countries i.e developed nations have higher life expectancy compared to low income countries i.e developing countries.(PLOT 6)"
   ]
  },
  {
   "cell_type": "markdown",
   "metadata": {},
   "source": [
    "It is observed from PLOT 7 that inflation,consumer prices (annual % ) has indirect relation with Life Expectancy of population. Inflation was high in developing countries like India, Bangladesh which had low life expectancy . Whereas in developed nations like Germany and United States Inflation was low and Life Expectancy was high."
   ]
  },
  {
   "cell_type": "markdown",
   "metadata": {},
   "source": [
    "To check the table data please visit http://www.worlddev.xyz/ and data clearly shows that high income developed countries with higher GDP has high Life expectancy compared to low income developing countries with lower GDP.\n",
    "\n",
    "`REFERENCES`\n",
    "\n",
    "http://www.worlddev.xyz/ Link directs to WORLD DEVELOPMENT EXPLORER Which is a data tool to get information regarding 200 plus countries data.\n",
    "\n",
    "https://datatopics.worldbank.org/world-development-indicators/ Link directs to WORLD BANK ."
   ]
  },
  {
   "cell_type": "code",
   "execution_count": null,
   "metadata": {},
   "outputs": [],
   "source": []
  },
  {
   "cell_type": "code",
   "execution_count": null,
   "metadata": {},
   "outputs": [],
   "source": []
  },
  {
   "cell_type": "code",
   "execution_count": null,
   "metadata": {},
   "outputs": [],
   "source": []
  }
 ],
 "metadata": {
  "kernelspec": {
   "display_name": "Python 3",
   "language": "python",
   "name": "python3"
  },
  "language_info": {
   "codemirror_mode": {
    "name": "ipython",
    "version": 3
   },
   "file_extension": ".py",
   "mimetype": "text/x-python",
   "name": "python",
   "nbconvert_exporter": "python",
   "pygments_lexer": "ipython3",
   "version": "3.7.3"
  }
 },
 "nbformat": 4,
 "nbformat_minor": 2
}
