{
 "cells": [
  {
   "cell_type": "code",
   "execution_count": 85,
   "metadata": {},
   "outputs": [],
   "source": [
    "import pandas as pd"
   ]
  },
  {
   "cell_type": "markdown",
   "metadata": {},
   "source": [
    "1. Use Pandas read_html() function to retrive the HTML tables as dataframes from the web page: https://www.genealogybranches.com/censuscosts.html"
   ]
  },
  {
   "cell_type": "code",
   "execution_count": 86,
   "metadata": {},
   "outputs": [],
   "source": [
    "# Reading the data\n",
    "data=pd.read_html(\"https://www.genealogybranches.com/censuscosts.html\")"
   ]
  },
  {
   "cell_type": "code",
   "execution_count": 87,
   "metadata": {},
   "outputs": [
    {
     "data": {
      "text/plain": [
       "[              0                 1               2                        3\n",
       " 0   Census Year  Total Population     Census Cost  Average Cost Per Person\n",
       " 1          1790           3929214         $44,377               1.13 cents\n",
       " 2          1800           5308483         $66,109               1.24 cents\n",
       " 3          1810           7239881        $178,445               2.46 cents\n",
       " 4          1820           9633822        $208,526               2.16 cents\n",
       " 5          1830          12866020        $378,545               2.94 cents\n",
       " 6          1840          17069458        $833,371               4.88 cents\n",
       " 7          1850          23191876      $1,423,351               6.14 cents\n",
       " 8          1860          31443321      $1,969,377               6.26 cents\n",
       " 9          1870          38558371      $3,421,198               8.87 cents\n",
       " 10         1880          50155783      $5,790,678              11.54 cents\n",
       " 11         1890          62979766     $11,547,127              18.33 cents\n",
       " 12         1900          76303387     $11,854,000              15.54 cents\n",
       " 13         1910          91972266     $15,968,000              17.07 cents\n",
       " 14         1920         105710620     $25,117,000              23.76 cents\n",
       " 15         1930         122775046     $40,156,000              32.71 cents\n",
       " 16         1940         131669275     $67,527,000              51.29 cents\n",
       " 17         1950         151325798     $91,462,000              60.44 cents\n",
       " 18         1960         179323175    $127,934,000              71.34 cents\n",
       " 19         1970         203302031    $247,653,000                    $1.22\n",
       " 20         1980         226542199  $1,078,488,000                    $4.76\n",
       " 21         1990         248718301  $2,492,830,000                   $10.02\n",
       " 22         2000         281421906    $4.5 Billion                   $15.99\n",
       " 23        2010*         308745538     $13 Billion                   $42.11,\n",
       "                                                    0\n",
       " 0  The U.S. population reached 300,000,000 on 17 ...]"
      ]
     },
     "execution_count": 87,
     "metadata": {},
     "output_type": "execute_result"
    }
   ],
   "source": [
    "data"
   ]
  },
  {
   "cell_type": "markdown",
   "metadata": {},
   "source": [
    "2. Find out how many HTML tables Pandas retrieves from the web page. Find out which dataframe contain the data and use it for further processing."
   ]
  },
  {
   "cell_type": "code",
   "execution_count": 88,
   "metadata": {},
   "outputs": [
    {
     "name": "stdout",
     "output_type": "stream",
     "text": [
      "Number of HTML tables is  2\n"
     ]
    }
   ],
   "source": [
    "print(\"Number of HTML tables is \",len(data))   # to find how many number of tables "
   ]
  },
  {
   "cell_type": "code",
   "execution_count": 89,
   "metadata": {},
   "outputs": [],
   "source": [
    "data=data[0]"
   ]
  },
  {
   "cell_type": "code",
   "execution_count": 90,
   "metadata": {},
   "outputs": [],
   "source": [
    "data.columns=data.iloc[0]\n",
    "data=data.iloc[1:]"
   ]
  },
  {
   "cell_type": "code",
   "execution_count": 91,
   "metadata": {},
   "outputs": [
    {
     "data": {
      "text/html": [
       "<div>\n",
       "<style scoped>\n",
       "    .dataframe tbody tr th:only-of-type {\n",
       "        vertical-align: middle;\n",
       "    }\n",
       "\n",
       "    .dataframe tbody tr th {\n",
       "        vertical-align: top;\n",
       "    }\n",
       "\n",
       "    .dataframe thead th {\n",
       "        text-align: right;\n",
       "    }\n",
       "</style>\n",
       "<table border=\"1\" class=\"dataframe\">\n",
       "  <thead>\n",
       "    <tr style=\"text-align: right;\">\n",
       "      <th></th>\n",
       "      <th>Census Year</th>\n",
       "      <th>Total Population</th>\n",
       "      <th>Census Cost</th>\n",
       "      <th>Average Cost Per Person</th>\n",
       "    </tr>\n",
       "  </thead>\n",
       "  <tbody>\n",
       "    <tr>\n",
       "      <th>1</th>\n",
       "      <td>1790</td>\n",
       "      <td>3929214</td>\n",
       "      <td>$44,377</td>\n",
       "      <td>1.13 cents</td>\n",
       "    </tr>\n",
       "    <tr>\n",
       "      <th>2</th>\n",
       "      <td>1800</td>\n",
       "      <td>5308483</td>\n",
       "      <td>$66,109</td>\n",
       "      <td>1.24 cents</td>\n",
       "    </tr>\n",
       "    <tr>\n",
       "      <th>3</th>\n",
       "      <td>1810</td>\n",
       "      <td>7239881</td>\n",
       "      <td>$178,445</td>\n",
       "      <td>2.46 cents</td>\n",
       "    </tr>\n",
       "    <tr>\n",
       "      <th>4</th>\n",
       "      <td>1820</td>\n",
       "      <td>9633822</td>\n",
       "      <td>$208,526</td>\n",
       "      <td>2.16 cents</td>\n",
       "    </tr>\n",
       "    <tr>\n",
       "      <th>5</th>\n",
       "      <td>1830</td>\n",
       "      <td>12866020</td>\n",
       "      <td>$378,545</td>\n",
       "      <td>2.94 cents</td>\n",
       "    </tr>\n",
       "    <tr>\n",
       "      <th>6</th>\n",
       "      <td>1840</td>\n",
       "      <td>17069458</td>\n",
       "      <td>$833,371</td>\n",
       "      <td>4.88 cents</td>\n",
       "    </tr>\n",
       "    <tr>\n",
       "      <th>7</th>\n",
       "      <td>1850</td>\n",
       "      <td>23191876</td>\n",
       "      <td>$1,423,351</td>\n",
       "      <td>6.14 cents</td>\n",
       "    </tr>\n",
       "    <tr>\n",
       "      <th>8</th>\n",
       "      <td>1860</td>\n",
       "      <td>31443321</td>\n",
       "      <td>$1,969,377</td>\n",
       "      <td>6.26 cents</td>\n",
       "    </tr>\n",
       "    <tr>\n",
       "      <th>9</th>\n",
       "      <td>1870</td>\n",
       "      <td>38558371</td>\n",
       "      <td>$3,421,198</td>\n",
       "      <td>8.87 cents</td>\n",
       "    </tr>\n",
       "    <tr>\n",
       "      <th>10</th>\n",
       "      <td>1880</td>\n",
       "      <td>50155783</td>\n",
       "      <td>$5,790,678</td>\n",
       "      <td>11.54 cents</td>\n",
       "    </tr>\n",
       "    <tr>\n",
       "      <th>11</th>\n",
       "      <td>1890</td>\n",
       "      <td>62979766</td>\n",
       "      <td>$11,547,127</td>\n",
       "      <td>18.33 cents</td>\n",
       "    </tr>\n",
       "    <tr>\n",
       "      <th>12</th>\n",
       "      <td>1900</td>\n",
       "      <td>76303387</td>\n",
       "      <td>$11,854,000</td>\n",
       "      <td>15.54 cents</td>\n",
       "    </tr>\n",
       "    <tr>\n",
       "      <th>13</th>\n",
       "      <td>1910</td>\n",
       "      <td>91972266</td>\n",
       "      <td>$15,968,000</td>\n",
       "      <td>17.07 cents</td>\n",
       "    </tr>\n",
       "    <tr>\n",
       "      <th>14</th>\n",
       "      <td>1920</td>\n",
       "      <td>105710620</td>\n",
       "      <td>$25,117,000</td>\n",
       "      <td>23.76 cents</td>\n",
       "    </tr>\n",
       "    <tr>\n",
       "      <th>15</th>\n",
       "      <td>1930</td>\n",
       "      <td>122775046</td>\n",
       "      <td>$40,156,000</td>\n",
       "      <td>32.71 cents</td>\n",
       "    </tr>\n",
       "    <tr>\n",
       "      <th>16</th>\n",
       "      <td>1940</td>\n",
       "      <td>131669275</td>\n",
       "      <td>$67,527,000</td>\n",
       "      <td>51.29 cents</td>\n",
       "    </tr>\n",
       "    <tr>\n",
       "      <th>17</th>\n",
       "      <td>1950</td>\n",
       "      <td>151325798</td>\n",
       "      <td>$91,462,000</td>\n",
       "      <td>60.44 cents</td>\n",
       "    </tr>\n",
       "    <tr>\n",
       "      <th>18</th>\n",
       "      <td>1960</td>\n",
       "      <td>179323175</td>\n",
       "      <td>$127,934,000</td>\n",
       "      <td>71.34 cents</td>\n",
       "    </tr>\n",
       "    <tr>\n",
       "      <th>19</th>\n",
       "      <td>1970</td>\n",
       "      <td>203302031</td>\n",
       "      <td>$247,653,000</td>\n",
       "      <td>$1.22</td>\n",
       "    </tr>\n",
       "    <tr>\n",
       "      <th>20</th>\n",
       "      <td>1980</td>\n",
       "      <td>226542199</td>\n",
       "      <td>$1,078,488,000</td>\n",
       "      <td>$4.76</td>\n",
       "    </tr>\n",
       "    <tr>\n",
       "      <th>21</th>\n",
       "      <td>1990</td>\n",
       "      <td>248718301</td>\n",
       "      <td>$2,492,830,000</td>\n",
       "      <td>$10.02</td>\n",
       "    </tr>\n",
       "    <tr>\n",
       "      <th>22</th>\n",
       "      <td>2000</td>\n",
       "      <td>281421906</td>\n",
       "      <td>$4.5 Billion</td>\n",
       "      <td>$15.99</td>\n",
       "    </tr>\n",
       "    <tr>\n",
       "      <th>23</th>\n",
       "      <td>2010*</td>\n",
       "      <td>308745538</td>\n",
       "      <td>$13 Billion</td>\n",
       "      <td>$42.11</td>\n",
       "    </tr>\n",
       "  </tbody>\n",
       "</table>\n",
       "</div>"
      ],
      "text/plain": [
       "0  Census Year Total Population     Census Cost Average Cost Per Person\n",
       "1         1790          3929214         $44,377              1.13 cents\n",
       "2         1800          5308483         $66,109              1.24 cents\n",
       "3         1810          7239881        $178,445              2.46 cents\n",
       "4         1820          9633822        $208,526              2.16 cents\n",
       "5         1830         12866020        $378,545              2.94 cents\n",
       "6         1840         17069458        $833,371              4.88 cents\n",
       "7         1850         23191876      $1,423,351              6.14 cents\n",
       "8         1860         31443321      $1,969,377              6.26 cents\n",
       "9         1870         38558371      $3,421,198              8.87 cents\n",
       "10        1880         50155783      $5,790,678             11.54 cents\n",
       "11        1890         62979766     $11,547,127             18.33 cents\n",
       "12        1900         76303387     $11,854,000             15.54 cents\n",
       "13        1910         91972266     $15,968,000             17.07 cents\n",
       "14        1920        105710620     $25,117,000             23.76 cents\n",
       "15        1930        122775046     $40,156,000             32.71 cents\n",
       "16        1940        131669275     $67,527,000             51.29 cents\n",
       "17        1950        151325798     $91,462,000             60.44 cents\n",
       "18        1960        179323175    $127,934,000             71.34 cents\n",
       "19        1970        203302031    $247,653,000                   $1.22\n",
       "20        1980        226542199  $1,078,488,000                   $4.76\n",
       "21        1990        248718301  $2,492,830,000                  $10.02\n",
       "22        2000        281421906    $4.5 Billion                  $15.99\n",
       "23       2010*        308745538     $13 Billion                  $42.11"
      ]
     },
     "execution_count": 91,
     "metadata": {},
     "output_type": "execute_result"
    }
   ],
   "source": [
    "data"
   ]
  },
  {
   "cell_type": "markdown",
   "metadata": {},
   "source": [
    "3. Display and explore the data (rows, columns, etc.) and determine the data quality (bad rows, bad columns, bad elements, null values, etc.)"
   ]
  },
  {
   "cell_type": "code",
   "execution_count": 92,
   "metadata": {},
   "outputs": [
    {
     "name": "stdout",
     "output_type": "stream",
     "text": [
      "Number of Rows in the data is  23\n"
     ]
    }
   ],
   "source": [
    "print(\"Number of Rows in the data is \" ,data.shape[0])"
   ]
  },
  {
   "cell_type": "code",
   "execution_count": 93,
   "metadata": {},
   "outputs": [
    {
     "name": "stdout",
     "output_type": "stream",
     "text": [
      "Number of Columns in the data is 4\n"
     ]
    }
   ],
   "source": [
    "print(\"Number of Columns in the data is\" ,data.shape[1])"
   ]
  },
  {
   "cell_type": "code",
   "execution_count": 94,
   "metadata": {},
   "outputs": [
    {
     "name": "stdout",
     "output_type": "stream",
     "text": [
      "Number of Null values in the data is  0\n",
      "Census Year                0\n",
      "Total Population           0\n",
      "Census Cost                0\n",
      "Average Cost Per Person    0\n",
      "dtype: int64\n"
     ]
    }
   ],
   "source": [
    "print(\"Number of Null values in the data is \", data.isnull().sum())"
   ]
  },
  {
   "cell_type": "code",
   "execution_count": null,
   "metadata": {},
   "outputs": [],
   "source": []
  },
  {
   "cell_type": "code",
   "execution_count": null,
   "metadata": {},
   "outputs": [],
   "source": []
  },
  {
   "cell_type": "markdown",
   "metadata": {},
   "source": [
    "4. Document the data quality issues using a Markdown cell so the reader understands what the problems are."
   ]
  },
  {
   "cell_type": "markdown",
   "metadata": {},
   "source": [
    "1. In Census Year column , asterick symbol is present in one of the row. For numeric data year column, it is not required.\n",
    "\n",
    "2. Census cost column , it would be having equal format. Only last two rows displaying as Billions.\n",
    "\n",
    "3. Average cost per person column contains cents and some are displayed as dollars.\n"
   ]
  },
  {
   "cell_type": "markdown",
   "metadata": {},
   "source": [
    "5. Write a function named cleanse_year() that takes a string as input and removes any asterisks in the string and return the cleansed string. Test the function by using test strings (for example, \"1989*\", \"20*10\")"
   ]
  },
  {
   "cell_type": "code",
   "execution_count": 95,
   "metadata": {},
   "outputs": [],
   "source": [
    "def cleanse_year(string):\n",
    "    string=string.replace(\"*\",\"\")\n",
    "    return string"
   ]
  },
  {
   "cell_type": "code",
   "execution_count": 96,
   "metadata": {},
   "outputs": [
    {
     "data": {
      "text/plain": [
       "'1989'"
      ]
     },
     "execution_count": 96,
     "metadata": {},
     "output_type": "execute_result"
    }
   ],
   "source": [
    "# testing strings\n",
    "cleanse_year(\"1989*\")"
   ]
  },
  {
   "cell_type": "code",
   "execution_count": 97,
   "metadata": {},
   "outputs": [
    {
     "data": {
      "text/plain": [
       "'2010'"
      ]
     },
     "execution_count": 97,
     "metadata": {},
     "output_type": "execute_result"
    }
   ],
   "source": [
    "cleanse_year(\"20*10\")"
   ]
  },
  {
   "cell_type": "markdown",
   "metadata": {},
   "source": [
    "6. Cleanse the column \"Census Year\" using the function cleanse_year() and Pandas's apply() function."
   ]
  },
  {
   "cell_type": "code",
   "execution_count": 98,
   "metadata": {
    "scrolled": true
   },
   "outputs": [
    {
     "name": "stderr",
     "output_type": "stream",
     "text": [
      "/home/shyam/.local/lib/python3.7/site-packages/ipykernel_launcher.py:1: SettingWithCopyWarning: \n",
      "A value is trying to be set on a copy of a slice from a DataFrame.\n",
      "Try using .loc[row_indexer,col_indexer] = value instead\n",
      "\n",
      "See the caveats in the documentation: https://pandas.pydata.org/pandas-docs/stable/user_guide/indexing.html#returning-a-view-versus-a-copy\n",
      "  \"\"\"Entry point for launching an IPython kernel.\n"
     ]
    }
   ],
   "source": [
    "data['Census Year']=data['Census Year'].apply(cleanse_year)"
   ]
  },
  {
   "cell_type": "code",
   "execution_count": 99,
   "metadata": {},
   "outputs": [
    {
     "data": {
      "text/html": [
       "<div>\n",
       "<style scoped>\n",
       "    .dataframe tbody tr th:only-of-type {\n",
       "        vertical-align: middle;\n",
       "    }\n",
       "\n",
       "    .dataframe tbody tr th {\n",
       "        vertical-align: top;\n",
       "    }\n",
       "\n",
       "    .dataframe thead th {\n",
       "        text-align: right;\n",
       "    }\n",
       "</style>\n",
       "<table border=\"1\" class=\"dataframe\">\n",
       "  <thead>\n",
       "    <tr style=\"text-align: right;\">\n",
       "      <th></th>\n",
       "      <th>Census Year</th>\n",
       "      <th>Total Population</th>\n",
       "      <th>Census Cost</th>\n",
       "      <th>Average Cost Per Person</th>\n",
       "    </tr>\n",
       "  </thead>\n",
       "  <tbody>\n",
       "    <tr>\n",
       "      <th>1</th>\n",
       "      <td>1790</td>\n",
       "      <td>3929214</td>\n",
       "      <td>$44,377</td>\n",
       "      <td>1.13 cents</td>\n",
       "    </tr>\n",
       "    <tr>\n",
       "      <th>2</th>\n",
       "      <td>1800</td>\n",
       "      <td>5308483</td>\n",
       "      <td>$66,109</td>\n",
       "      <td>1.24 cents</td>\n",
       "    </tr>\n",
       "    <tr>\n",
       "      <th>3</th>\n",
       "      <td>1810</td>\n",
       "      <td>7239881</td>\n",
       "      <td>$178,445</td>\n",
       "      <td>2.46 cents</td>\n",
       "    </tr>\n",
       "    <tr>\n",
       "      <th>4</th>\n",
       "      <td>1820</td>\n",
       "      <td>9633822</td>\n",
       "      <td>$208,526</td>\n",
       "      <td>2.16 cents</td>\n",
       "    </tr>\n",
       "    <tr>\n",
       "      <th>5</th>\n",
       "      <td>1830</td>\n",
       "      <td>12866020</td>\n",
       "      <td>$378,545</td>\n",
       "      <td>2.94 cents</td>\n",
       "    </tr>\n",
       "    <tr>\n",
       "      <th>6</th>\n",
       "      <td>1840</td>\n",
       "      <td>17069458</td>\n",
       "      <td>$833,371</td>\n",
       "      <td>4.88 cents</td>\n",
       "    </tr>\n",
       "    <tr>\n",
       "      <th>7</th>\n",
       "      <td>1850</td>\n",
       "      <td>23191876</td>\n",
       "      <td>$1,423,351</td>\n",
       "      <td>6.14 cents</td>\n",
       "    </tr>\n",
       "    <tr>\n",
       "      <th>8</th>\n",
       "      <td>1860</td>\n",
       "      <td>31443321</td>\n",
       "      <td>$1,969,377</td>\n",
       "      <td>6.26 cents</td>\n",
       "    </tr>\n",
       "    <tr>\n",
       "      <th>9</th>\n",
       "      <td>1870</td>\n",
       "      <td>38558371</td>\n",
       "      <td>$3,421,198</td>\n",
       "      <td>8.87 cents</td>\n",
       "    </tr>\n",
       "    <tr>\n",
       "      <th>10</th>\n",
       "      <td>1880</td>\n",
       "      <td>50155783</td>\n",
       "      <td>$5,790,678</td>\n",
       "      <td>11.54 cents</td>\n",
       "    </tr>\n",
       "    <tr>\n",
       "      <th>11</th>\n",
       "      <td>1890</td>\n",
       "      <td>62979766</td>\n",
       "      <td>$11,547,127</td>\n",
       "      <td>18.33 cents</td>\n",
       "    </tr>\n",
       "    <tr>\n",
       "      <th>12</th>\n",
       "      <td>1900</td>\n",
       "      <td>76303387</td>\n",
       "      <td>$11,854,000</td>\n",
       "      <td>15.54 cents</td>\n",
       "    </tr>\n",
       "    <tr>\n",
       "      <th>13</th>\n",
       "      <td>1910</td>\n",
       "      <td>91972266</td>\n",
       "      <td>$15,968,000</td>\n",
       "      <td>17.07 cents</td>\n",
       "    </tr>\n",
       "    <tr>\n",
       "      <th>14</th>\n",
       "      <td>1920</td>\n",
       "      <td>105710620</td>\n",
       "      <td>$25,117,000</td>\n",
       "      <td>23.76 cents</td>\n",
       "    </tr>\n",
       "    <tr>\n",
       "      <th>15</th>\n",
       "      <td>1930</td>\n",
       "      <td>122775046</td>\n",
       "      <td>$40,156,000</td>\n",
       "      <td>32.71 cents</td>\n",
       "    </tr>\n",
       "    <tr>\n",
       "      <th>16</th>\n",
       "      <td>1940</td>\n",
       "      <td>131669275</td>\n",
       "      <td>$67,527,000</td>\n",
       "      <td>51.29 cents</td>\n",
       "    </tr>\n",
       "    <tr>\n",
       "      <th>17</th>\n",
       "      <td>1950</td>\n",
       "      <td>151325798</td>\n",
       "      <td>$91,462,000</td>\n",
       "      <td>60.44 cents</td>\n",
       "    </tr>\n",
       "    <tr>\n",
       "      <th>18</th>\n",
       "      <td>1960</td>\n",
       "      <td>179323175</td>\n",
       "      <td>$127,934,000</td>\n",
       "      <td>71.34 cents</td>\n",
       "    </tr>\n",
       "    <tr>\n",
       "      <th>19</th>\n",
       "      <td>1970</td>\n",
       "      <td>203302031</td>\n",
       "      <td>$247,653,000</td>\n",
       "      <td>$1.22</td>\n",
       "    </tr>\n",
       "    <tr>\n",
       "      <th>20</th>\n",
       "      <td>1980</td>\n",
       "      <td>226542199</td>\n",
       "      <td>$1,078,488,000</td>\n",
       "      <td>$4.76</td>\n",
       "    </tr>\n",
       "    <tr>\n",
       "      <th>21</th>\n",
       "      <td>1990</td>\n",
       "      <td>248718301</td>\n",
       "      <td>$2,492,830,000</td>\n",
       "      <td>$10.02</td>\n",
       "    </tr>\n",
       "    <tr>\n",
       "      <th>22</th>\n",
       "      <td>2000</td>\n",
       "      <td>281421906</td>\n",
       "      <td>$4.5 Billion</td>\n",
       "      <td>$15.99</td>\n",
       "    </tr>\n",
       "    <tr>\n",
       "      <th>23</th>\n",
       "      <td>2010</td>\n",
       "      <td>308745538</td>\n",
       "      <td>$13 Billion</td>\n",
       "      <td>$42.11</td>\n",
       "    </tr>\n",
       "  </tbody>\n",
       "</table>\n",
       "</div>"
      ],
      "text/plain": [
       "0  Census Year Total Population     Census Cost Average Cost Per Person\n",
       "1         1790          3929214         $44,377              1.13 cents\n",
       "2         1800          5308483         $66,109              1.24 cents\n",
       "3         1810          7239881        $178,445              2.46 cents\n",
       "4         1820          9633822        $208,526              2.16 cents\n",
       "5         1830         12866020        $378,545              2.94 cents\n",
       "6         1840         17069458        $833,371              4.88 cents\n",
       "7         1850         23191876      $1,423,351              6.14 cents\n",
       "8         1860         31443321      $1,969,377              6.26 cents\n",
       "9         1870         38558371      $3,421,198              8.87 cents\n",
       "10        1880         50155783      $5,790,678             11.54 cents\n",
       "11        1890         62979766     $11,547,127             18.33 cents\n",
       "12        1900         76303387     $11,854,000             15.54 cents\n",
       "13        1910         91972266     $15,968,000             17.07 cents\n",
       "14        1920        105710620     $25,117,000             23.76 cents\n",
       "15        1930        122775046     $40,156,000             32.71 cents\n",
       "16        1940        131669275     $67,527,000             51.29 cents\n",
       "17        1950        151325798     $91,462,000             60.44 cents\n",
       "18        1960        179323175    $127,934,000             71.34 cents\n",
       "19        1970        203302031    $247,653,000                   $1.22\n",
       "20        1980        226542199  $1,078,488,000                   $4.76\n",
       "21        1990        248718301  $2,492,830,000                  $10.02\n",
       "22        2000        281421906    $4.5 Billion                  $15.99\n",
       "23        2010        308745538     $13 Billion                  $42.11"
      ]
     },
     "execution_count": 99,
     "metadata": {},
     "output_type": "execute_result"
    }
   ],
   "source": [
    "data"
   ]
  },
  {
   "cell_type": "markdown",
   "metadata": {},
   "source": [
    "7. Repeat this process for column \"Total Population\", \t\"Census Cost\", \t\"Average Cost Per Person\". (define, test, and apply the function)"
   ]
  },
  {
   "cell_type": "code",
   "execution_count": null,
   "metadata": {},
   "outputs": [],
   "source": []
  },
  {
   "cell_type": "code",
   "execution_count": 100,
   "metadata": {
    "scrolled": false
   },
   "outputs": [
    {
     "name": "stderr",
     "output_type": "stream",
     "text": [
      "/home/shyam/.local/lib/python3.7/site-packages/ipykernel_launcher.py:1: SettingWithCopyWarning: \n",
      "A value is trying to be set on a copy of a slice from a DataFrame.\n",
      "Try using .loc[row_indexer,col_indexer] = value instead\n",
      "\n",
      "See the caveats in the documentation: https://pandas.pydata.org/pandas-docs/stable/user_guide/indexing.html#returning-a-view-versus-a-copy\n",
      "  \"\"\"Entry point for launching an IPython kernel.\n"
     ]
    }
   ],
   "source": [
    "data['Total Population']=data['Total Population'].apply(cleanse_year)"
   ]
  },
  {
   "cell_type": "code",
   "execution_count": 101,
   "metadata": {
    "scrolled": true
   },
   "outputs": [
    {
     "data": {
      "text/html": [
       "<div>\n",
       "<style scoped>\n",
       "    .dataframe tbody tr th:only-of-type {\n",
       "        vertical-align: middle;\n",
       "    }\n",
       "\n",
       "    .dataframe tbody tr th {\n",
       "        vertical-align: top;\n",
       "    }\n",
       "\n",
       "    .dataframe thead th {\n",
       "        text-align: right;\n",
       "    }\n",
       "</style>\n",
       "<table border=\"1\" class=\"dataframe\">\n",
       "  <thead>\n",
       "    <tr style=\"text-align: right;\">\n",
       "      <th></th>\n",
       "      <th>Census Year</th>\n",
       "      <th>Total Population</th>\n",
       "      <th>Census Cost</th>\n",
       "      <th>Average Cost Per Person</th>\n",
       "    </tr>\n",
       "  </thead>\n",
       "  <tbody>\n",
       "    <tr>\n",
       "      <th>19</th>\n",
       "      <td>1970</td>\n",
       "      <td>203302031</td>\n",
       "      <td>$247,653,000</td>\n",
       "      <td>$1.22</td>\n",
       "    </tr>\n",
       "    <tr>\n",
       "      <th>20</th>\n",
       "      <td>1980</td>\n",
       "      <td>226542199</td>\n",
       "      <td>$1,078,488,000</td>\n",
       "      <td>$4.76</td>\n",
       "    </tr>\n",
       "    <tr>\n",
       "      <th>21</th>\n",
       "      <td>1990</td>\n",
       "      <td>248718301</td>\n",
       "      <td>$2,492,830,000</td>\n",
       "      <td>$10.02</td>\n",
       "    </tr>\n",
       "    <tr>\n",
       "      <th>22</th>\n",
       "      <td>2000</td>\n",
       "      <td>281421906</td>\n",
       "      <td>$4.5 Billion</td>\n",
       "      <td>$15.99</td>\n",
       "    </tr>\n",
       "    <tr>\n",
       "      <th>23</th>\n",
       "      <td>2010</td>\n",
       "      <td>308745538</td>\n",
       "      <td>$13 Billion</td>\n",
       "      <td>$42.11</td>\n",
       "    </tr>\n",
       "  </tbody>\n",
       "</table>\n",
       "</div>"
      ],
      "text/plain": [
       "0  Census Year Total Population     Census Cost Average Cost Per Person\n",
       "19        1970        203302031    $247,653,000                   $1.22\n",
       "20        1980        226542199  $1,078,488,000                   $4.76\n",
       "21        1990        248718301  $2,492,830,000                  $10.02\n",
       "22        2000        281421906    $4.5 Billion                  $15.99\n",
       "23        2010        308745538     $13 Billion                  $42.11"
      ]
     },
     "execution_count": 101,
     "metadata": {},
     "output_type": "execute_result"
    }
   ],
   "source": [
    "data.tail()"
   ]
  },
  {
   "cell_type": "code",
   "execution_count": 60,
   "metadata": {},
   "outputs": [],
   "source": [
    "#data['Census Cost'].replace('$4.5 Billion','$4,500,000,000',inplace=True)\n",
    "#data['Census Cost'].replace('$13 Billion','$13,000,000,000',inplace=True)"
   ]
  },
  {
   "cell_type": "code",
   "execution_count": 74,
   "metadata": {},
   "outputs": [],
   "source": [
    "#data['Census Cost'].str.replace('$','').str.replace(',','').str.replace(' Billion',9).apply(eval)"
   ]
  },
  {
   "cell_type": "code",
   "execution_count": 102,
   "metadata": {},
   "outputs": [],
   "source": [
    "def cleanse_cost(x):\n",
    "    #x=x.replace(\" Billion\",\"000,000,000\").replace(',','').replace('$','')\n",
    "    a=x.str.replace('$','').str.replace(',','').str.replace(' Billion','e9')\n",
    "\n",
    "    a=pd.to_numeric(a,errors='ignore')\n",
    "\n",
    "    a=a.apply(lambda x: '%1.0f' % x)\n",
    "    return a"
   ]
  },
  {
   "cell_type": "code",
   "execution_count": 103,
   "metadata": {},
   "outputs": [],
   "source": [
    "d=\" Billion\""
   ]
  },
  {
   "cell_type": "code",
   "execution_count": 106,
   "metadata": {},
   "outputs": [
    {
     "name": "stderr",
     "output_type": "stream",
     "text": [
      "/home/shyam/.local/lib/python3.7/site-packages/ipykernel_launcher.py:1: SettingWithCopyWarning: \n",
      "A value is trying to be set on a copy of a slice from a DataFrame.\n",
      "Try using .loc[row_indexer,col_indexer] = value instead\n",
      "\n",
      "See the caveats in the documentation: https://pandas.pydata.org/pandas-docs/stable/user_guide/indexing.html#returning-a-view-versus-a-copy\n",
      "  \"\"\"Entry point for launching an IPython kernel.\n"
     ]
    }
   ],
   "source": [
    "data['Census Cost']=cleanse_cost(data['Census Cost'])"
   ]
  },
  {
   "cell_type": "code",
   "execution_count": 107,
   "metadata": {},
   "outputs": [
    {
     "data": {
      "text/html": [
       "<div>\n",
       "<style scoped>\n",
       "    .dataframe tbody tr th:only-of-type {\n",
       "        vertical-align: middle;\n",
       "    }\n",
       "\n",
       "    .dataframe tbody tr th {\n",
       "        vertical-align: top;\n",
       "    }\n",
       "\n",
       "    .dataframe thead th {\n",
       "        text-align: right;\n",
       "    }\n",
       "</style>\n",
       "<table border=\"1\" class=\"dataframe\">\n",
       "  <thead>\n",
       "    <tr style=\"text-align: right;\">\n",
       "      <th></th>\n",
       "      <th>Census Year</th>\n",
       "      <th>Total Population</th>\n",
       "      <th>Census Cost</th>\n",
       "      <th>Average Cost Per Person</th>\n",
       "    </tr>\n",
       "  </thead>\n",
       "  <tbody>\n",
       "    <tr>\n",
       "      <th>1</th>\n",
       "      <td>1790</td>\n",
       "      <td>3929214</td>\n",
       "      <td>44377</td>\n",
       "      <td>1.13 cents</td>\n",
       "    </tr>\n",
       "    <tr>\n",
       "      <th>2</th>\n",
       "      <td>1800</td>\n",
       "      <td>5308483</td>\n",
       "      <td>66109</td>\n",
       "      <td>1.24 cents</td>\n",
       "    </tr>\n",
       "    <tr>\n",
       "      <th>3</th>\n",
       "      <td>1810</td>\n",
       "      <td>7239881</td>\n",
       "      <td>178445</td>\n",
       "      <td>2.46 cents</td>\n",
       "    </tr>\n",
       "    <tr>\n",
       "      <th>4</th>\n",
       "      <td>1820</td>\n",
       "      <td>9633822</td>\n",
       "      <td>208526</td>\n",
       "      <td>2.16 cents</td>\n",
       "    </tr>\n",
       "    <tr>\n",
       "      <th>5</th>\n",
       "      <td>1830</td>\n",
       "      <td>12866020</td>\n",
       "      <td>378545</td>\n",
       "      <td>2.94 cents</td>\n",
       "    </tr>\n",
       "  </tbody>\n",
       "</table>\n",
       "</div>"
      ],
      "text/plain": [
       "0 Census Year Total Population Census Cost Average Cost Per Person\n",
       "1        1790          3929214       44377              1.13 cents\n",
       "2        1800          5308483       66109              1.24 cents\n",
       "3        1810          7239881      178445              2.46 cents\n",
       "4        1820          9633822      208526              2.16 cents\n",
       "5        1830         12866020      378545              2.94 cents"
      ]
     },
     "execution_count": 107,
     "metadata": {},
     "output_type": "execute_result"
    }
   ],
   "source": [
    "data.head()"
   ]
  },
  {
   "cell_type": "code",
   "execution_count": 69,
   "metadata": {},
   "outputs": [],
   "source": [
    "a=data['Census Cost'].str.replace('$','').str.replace(',','').str.replace(' Billion','e9')"
   ]
  },
  {
   "cell_type": "code",
   "execution_count": 70,
   "metadata": {},
   "outputs": [],
   "source": [
    "a=pd.to_numeric(a,errors='ignore')"
   ]
  },
  {
   "cell_type": "code",
   "execution_count": 71,
   "metadata": {},
   "outputs": [
    {
     "data": {
      "text/plain": [
       "1           44377\n",
       "2           66109\n",
       "3          178445\n",
       "4          208526\n",
       "5          378545\n",
       "6          833371\n",
       "7         1423351\n",
       "8         1969377\n",
       "9         3421198\n",
       "10        5790678\n",
       "11       11547127\n",
       "12       11854000\n",
       "13       15968000\n",
       "14       25117000\n",
       "15       40156000\n",
       "16       67527000\n",
       "17       91462000\n",
       "18      127934000\n",
       "19      247653000\n",
       "20     1078488000\n",
       "21     2492830000\n",
       "22     4500000000\n",
       "23    13000000000\n",
       "Name: Census Cost, dtype: object"
      ]
     },
     "execution_count": 71,
     "metadata": {},
     "output_type": "execute_result"
    }
   ],
   "source": [
    "a.apply(lambda x: '%1.0f' % x)"
   ]
  },
  {
   "cell_type": "code",
   "execution_count": 111,
   "metadata": {},
   "outputs": [
    {
     "data": {
      "text/html": [
       "<div>\n",
       "<style scoped>\n",
       "    .dataframe tbody tr th:only-of-type {\n",
       "        vertical-align: middle;\n",
       "    }\n",
       "\n",
       "    .dataframe tbody tr th {\n",
       "        vertical-align: top;\n",
       "    }\n",
       "\n",
       "    .dataframe thead th {\n",
       "        text-align: right;\n",
       "    }\n",
       "</style>\n",
       "<table border=\"1\" class=\"dataframe\">\n",
       "  <thead>\n",
       "    <tr style=\"text-align: right;\">\n",
       "      <th></th>\n",
       "      <th>Census Year</th>\n",
       "      <th>Total Population</th>\n",
       "      <th>Census Cost</th>\n",
       "      <th>Average Cost Per Person</th>\n",
       "    </tr>\n",
       "  </thead>\n",
       "  <tbody>\n",
       "    <tr>\n",
       "      <th>18</th>\n",
       "      <td>1960</td>\n",
       "      <td>179323175</td>\n",
       "      <td>127934000</td>\n",
       "      <td>71.34 cents</td>\n",
       "    </tr>\n",
       "    <tr>\n",
       "      <th>19</th>\n",
       "      <td>1970</td>\n",
       "      <td>203302031</td>\n",
       "      <td>247653000</td>\n",
       "      <td>$1.22</td>\n",
       "    </tr>\n",
       "    <tr>\n",
       "      <th>20</th>\n",
       "      <td>1980</td>\n",
       "      <td>226542199</td>\n",
       "      <td>1078488000</td>\n",
       "      <td>$4.76</td>\n",
       "    </tr>\n",
       "    <tr>\n",
       "      <th>21</th>\n",
       "      <td>1990</td>\n",
       "      <td>248718301</td>\n",
       "      <td>2492830000</td>\n",
       "      <td>$10.02</td>\n",
       "    </tr>\n",
       "    <tr>\n",
       "      <th>22</th>\n",
       "      <td>2000</td>\n",
       "      <td>281421906</td>\n",
       "      <td>4500000000</td>\n",
       "      <td>$15.99</td>\n",
       "    </tr>\n",
       "    <tr>\n",
       "      <th>23</th>\n",
       "      <td>2010</td>\n",
       "      <td>308745538</td>\n",
       "      <td>13000000000</td>\n",
       "      <td>$42.11</td>\n",
       "    </tr>\n",
       "  </tbody>\n",
       "</table>\n",
       "</div>"
      ],
      "text/plain": [
       "0  Census Year Total Population  Census Cost Average Cost Per Person\n",
       "18        1960        179323175    127934000             71.34 cents\n",
       "19        1970        203302031    247653000                   $1.22\n",
       "20        1980        226542199   1078488000                   $4.76\n",
       "21        1990        248718301   2492830000                  $10.02\n",
       "22        2000        281421906   4500000000                  $15.99\n",
       "23        2010        308745538  13000000000                  $42.11"
      ]
     },
     "execution_count": 111,
     "metadata": {},
     "output_type": "execute_result"
    }
   ],
   "source": [
    "data.tail(6)"
   ]
  },
  {
   "cell_type": "code",
   "execution_count": 116,
   "metadata": {},
   "outputs": [],
   "source": [
    "a=data['Average Cost Per Person'].str.replace(' cents','').str.replace('$','100*')"
   ]
  },
  {
   "cell_type": "code",
   "execution_count": 118,
   "metadata": {},
   "outputs": [],
   "source": [
    "a=pd.to_numeric(a,errors='ignore')"
   ]
  },
  {
   "cell_type": "code",
   "execution_count": 120,
   "metadata": {},
   "outputs": [
    {
     "data": {
      "text/plain": [
       "1        1.13\n",
       "2        1.24\n",
       "3        2.46\n",
       "4        2.16\n",
       "5        2.94\n",
       "6        4.88\n",
       "7        6.14\n",
       "8        6.26\n",
       "9        8.87\n",
       "10      11.54\n",
       "11      18.33\n",
       "12      15.54\n",
       "13      17.07\n",
       "14      23.76\n",
       "15      32.71\n",
       "16      51.29\n",
       "17      60.44\n",
       "18      71.34\n",
       "19     122.00\n",
       "20     476.00\n",
       "21    1002.00\n",
       "22    1599.00\n",
       "23    4211.00\n",
       "Name: Average Cost Per Person, dtype: float64"
      ]
     },
     "execution_count": 120,
     "metadata": {},
     "output_type": "execute_result"
    }
   ],
   "source": [
    "a.apply(eval)"
   ]
  },
  {
   "cell_type": "code",
   "execution_count": 121,
   "metadata": {},
   "outputs": [],
   "source": [
    "def cleanse_avg(x):\n",
    "    x=x.str.replace(' cents','').str.replace('$','100*')\n",
    "    a=pd.to_numeric(x,errors='ignore')\n",
    "    a=a.apply(eval)\n",
    "    return a"
   ]
  },
  {
   "cell_type": "code",
   "execution_count": 123,
   "metadata": {},
   "outputs": [
    {
     "name": "stderr",
     "output_type": "stream",
     "text": [
      "/home/shyam/.local/lib/python3.7/site-packages/ipykernel_launcher.py:1: SettingWithCopyWarning: \n",
      "A value is trying to be set on a copy of a slice from a DataFrame.\n",
      "Try using .loc[row_indexer,col_indexer] = value instead\n",
      "\n",
      "See the caveats in the documentation: https://pandas.pydata.org/pandas-docs/stable/user_guide/indexing.html#returning-a-view-versus-a-copy\n",
      "  \"\"\"Entry point for launching an IPython kernel.\n"
     ]
    }
   ],
   "source": [
    "data['Average Cost Per Person']=cleanse_avg(data['Average Cost Per Person'])"
   ]
  },
  {
   "cell_type": "markdown",
   "metadata": {},
   "source": [
    "8. After all columns are cleansed, save the clenased dataframe to a file named \"census_cost_cleansed.csv\" using CSV format."
   ]
  },
  {
   "cell_type": "code",
   "execution_count": 126,
   "metadata": {},
   "outputs": [],
   "source": [
    "data.to_csv(\"census_cost_cleansed.csv\",index=False)"
   ]
  },
  {
   "cell_type": "markdown",
   "metadata": {},
   "source": [
    "9. Use Pandas to read the saved cleansed file and explore to make sure it is clean. "
   ]
  },
  {
   "cell_type": "code",
   "execution_count": 127,
   "metadata": {},
   "outputs": [
    {
     "data": {
      "text/html": [
       "<div>\n",
       "<style scoped>\n",
       "    .dataframe tbody tr th:only-of-type {\n",
       "        vertical-align: middle;\n",
       "    }\n",
       "\n",
       "    .dataframe tbody tr th {\n",
       "        vertical-align: top;\n",
       "    }\n",
       "\n",
       "    .dataframe thead th {\n",
       "        text-align: right;\n",
       "    }\n",
       "</style>\n",
       "<table border=\"1\" class=\"dataframe\">\n",
       "  <thead>\n",
       "    <tr style=\"text-align: right;\">\n",
       "      <th></th>\n",
       "      <th>Census Year</th>\n",
       "      <th>Total Population</th>\n",
       "      <th>Census Cost</th>\n",
       "      <th>Average Cost Per Person</th>\n",
       "    </tr>\n",
       "  </thead>\n",
       "  <tbody>\n",
       "    <tr>\n",
       "      <th>0</th>\n",
       "      <td>1790</td>\n",
       "      <td>3929214</td>\n",
       "      <td>44377</td>\n",
       "      <td>1.13</td>\n",
       "    </tr>\n",
       "    <tr>\n",
       "      <th>1</th>\n",
       "      <td>1800</td>\n",
       "      <td>5308483</td>\n",
       "      <td>66109</td>\n",
       "      <td>1.24</td>\n",
       "    </tr>\n",
       "    <tr>\n",
       "      <th>2</th>\n",
       "      <td>1810</td>\n",
       "      <td>7239881</td>\n",
       "      <td>178445</td>\n",
       "      <td>2.46</td>\n",
       "    </tr>\n",
       "    <tr>\n",
       "      <th>3</th>\n",
       "      <td>1820</td>\n",
       "      <td>9633822</td>\n",
       "      <td>208526</td>\n",
       "      <td>2.16</td>\n",
       "    </tr>\n",
       "    <tr>\n",
       "      <th>4</th>\n",
       "      <td>1830</td>\n",
       "      <td>12866020</td>\n",
       "      <td>378545</td>\n",
       "      <td>2.94</td>\n",
       "    </tr>\n",
       "    <tr>\n",
       "      <th>5</th>\n",
       "      <td>1840</td>\n",
       "      <td>17069458</td>\n",
       "      <td>833371</td>\n",
       "      <td>4.88</td>\n",
       "    </tr>\n",
       "    <tr>\n",
       "      <th>6</th>\n",
       "      <td>1850</td>\n",
       "      <td>23191876</td>\n",
       "      <td>1423351</td>\n",
       "      <td>6.14</td>\n",
       "    </tr>\n",
       "    <tr>\n",
       "      <th>7</th>\n",
       "      <td>1860</td>\n",
       "      <td>31443321</td>\n",
       "      <td>1969377</td>\n",
       "      <td>6.26</td>\n",
       "    </tr>\n",
       "    <tr>\n",
       "      <th>8</th>\n",
       "      <td>1870</td>\n",
       "      <td>38558371</td>\n",
       "      <td>3421198</td>\n",
       "      <td>8.87</td>\n",
       "    </tr>\n",
       "    <tr>\n",
       "      <th>9</th>\n",
       "      <td>1880</td>\n",
       "      <td>50155783</td>\n",
       "      <td>5790678</td>\n",
       "      <td>11.54</td>\n",
       "    </tr>\n",
       "    <tr>\n",
       "      <th>10</th>\n",
       "      <td>1890</td>\n",
       "      <td>62979766</td>\n",
       "      <td>11547127</td>\n",
       "      <td>18.33</td>\n",
       "    </tr>\n",
       "    <tr>\n",
       "      <th>11</th>\n",
       "      <td>1900</td>\n",
       "      <td>76303387</td>\n",
       "      <td>11854000</td>\n",
       "      <td>15.54</td>\n",
       "    </tr>\n",
       "    <tr>\n",
       "      <th>12</th>\n",
       "      <td>1910</td>\n",
       "      <td>91972266</td>\n",
       "      <td>15968000</td>\n",
       "      <td>17.07</td>\n",
       "    </tr>\n",
       "    <tr>\n",
       "      <th>13</th>\n",
       "      <td>1920</td>\n",
       "      <td>105710620</td>\n",
       "      <td>25117000</td>\n",
       "      <td>23.76</td>\n",
       "    </tr>\n",
       "    <tr>\n",
       "      <th>14</th>\n",
       "      <td>1930</td>\n",
       "      <td>122775046</td>\n",
       "      <td>40156000</td>\n",
       "      <td>32.71</td>\n",
       "    </tr>\n",
       "    <tr>\n",
       "      <th>15</th>\n",
       "      <td>1940</td>\n",
       "      <td>131669275</td>\n",
       "      <td>67527000</td>\n",
       "      <td>51.29</td>\n",
       "    </tr>\n",
       "    <tr>\n",
       "      <th>16</th>\n",
       "      <td>1950</td>\n",
       "      <td>151325798</td>\n",
       "      <td>91462000</td>\n",
       "      <td>60.44</td>\n",
       "    </tr>\n",
       "    <tr>\n",
       "      <th>17</th>\n",
       "      <td>1960</td>\n",
       "      <td>179323175</td>\n",
       "      <td>127934000</td>\n",
       "      <td>71.34</td>\n",
       "    </tr>\n",
       "    <tr>\n",
       "      <th>18</th>\n",
       "      <td>1970</td>\n",
       "      <td>203302031</td>\n",
       "      <td>247653000</td>\n",
       "      <td>122.00</td>\n",
       "    </tr>\n",
       "    <tr>\n",
       "      <th>19</th>\n",
       "      <td>1980</td>\n",
       "      <td>226542199</td>\n",
       "      <td>1078488000</td>\n",
       "      <td>476.00</td>\n",
       "    </tr>\n",
       "    <tr>\n",
       "      <th>20</th>\n",
       "      <td>1990</td>\n",
       "      <td>248718301</td>\n",
       "      <td>2492830000</td>\n",
       "      <td>1002.00</td>\n",
       "    </tr>\n",
       "    <tr>\n",
       "      <th>21</th>\n",
       "      <td>2000</td>\n",
       "      <td>281421906</td>\n",
       "      <td>4500000000</td>\n",
       "      <td>1599.00</td>\n",
       "    </tr>\n",
       "    <tr>\n",
       "      <th>22</th>\n",
       "      <td>2010</td>\n",
       "      <td>308745538</td>\n",
       "      <td>13000000000</td>\n",
       "      <td>4211.00</td>\n",
       "    </tr>\n",
       "  </tbody>\n",
       "</table>\n",
       "</div>"
      ],
      "text/plain": [
       "    Census Year  Total Population  Census Cost  Average Cost Per Person\n",
       "0          1790           3929214        44377                     1.13\n",
       "1          1800           5308483        66109                     1.24\n",
       "2          1810           7239881       178445                     2.46\n",
       "3          1820           9633822       208526                     2.16\n",
       "4          1830          12866020       378545                     2.94\n",
       "5          1840          17069458       833371                     4.88\n",
       "6          1850          23191876      1423351                     6.14\n",
       "7          1860          31443321      1969377                     6.26\n",
       "8          1870          38558371      3421198                     8.87\n",
       "9          1880          50155783      5790678                    11.54\n",
       "10         1890          62979766     11547127                    18.33\n",
       "11         1900          76303387     11854000                    15.54\n",
       "12         1910          91972266     15968000                    17.07\n",
       "13         1920         105710620     25117000                    23.76\n",
       "14         1930         122775046     40156000                    32.71\n",
       "15         1940         131669275     67527000                    51.29\n",
       "16         1950         151325798     91462000                    60.44\n",
       "17         1960         179323175    127934000                    71.34\n",
       "18         1970         203302031    247653000                   122.00\n",
       "19         1980         226542199   1078488000                   476.00\n",
       "20         1990         248718301   2492830000                  1002.00\n",
       "21         2000         281421906   4500000000                  1599.00\n",
       "22         2010         308745538  13000000000                  4211.00"
      ]
     },
     "execution_count": 127,
     "metadata": {},
     "output_type": "execute_result"
    }
   ],
   "source": [
    "pd.read_csv(\"census_cost_cleansed.csv\")"
   ]
  },
  {
   "cell_type": "code",
   "execution_count": null,
   "metadata": {},
   "outputs": [],
   "source": []
  }
 ],
 "metadata": {
  "kernelspec": {
   "display_name": "Python 3",
   "language": "python",
   "name": "python3"
  },
  "language_info": {
   "codemirror_mode": {
    "name": "ipython",
    "version": 3
   },
   "file_extension": ".py",
   "mimetype": "text/x-python",
   "name": "python",
   "nbconvert_exporter": "python",
   "pygments_lexer": "ipython3",
   "version": "3.7.3"
  }
 },
 "nbformat": 4,
 "nbformat_minor": 2
}
