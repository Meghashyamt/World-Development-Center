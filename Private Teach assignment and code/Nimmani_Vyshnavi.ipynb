{
 "cells": [
  {
   "cell_type": "markdown",
   "metadata": {
    "id": "BNqwXd9XT45G"
   },
   "source": [
    "# SP21-DATA601-HW-4\n",
    "\n",
    "Due Date: 03/09/2021 (Tuesday) by 23:59 pm "
   ]
  },
  {
   "cell_type": "markdown",
   "metadata": {
    "id": "lJM_NOeMUVp1"
   },
   "source": [
    "# Part-I: Set-up"
   ]
  },
  {
   "cell_type": "markdown",
   "metadata": {
    "id": "uLm1DVygXEpj"
   },
   "source": [
    "1. Make sure that you make a copy of this notebook."
   ]
  },
  {
   "cell_type": "markdown",
   "metadata": {
    "id": "13xDIrNUXJr7"
   },
   "source": [
    "2. Run the cell below."
   ]
  },
  {
   "cell_type": "code",
   "execution_count": null,
   "metadata": {
    "colab": {
     "base_uri": "https://localhost:8080/"
    },
    "id": "uhx7a9WPU5i3",
    "outputId": "31e703bf-5535-4ca6-daf9-762033d1f46a"
   },
   "outputs": [
    {
     "name": "stdout",
     "output_type": "stream",
     "text": [
      "--2021-03-10 11:49:19--  https://github.com/mguner/DATA601_SP21/raw/main/data/Archive.zip\n",
      "Resolving github.com (github.com)... 140.82.121.4\n",
      "Connecting to github.com (github.com)|140.82.121.4|:443... connected.\n",
      "HTTP request sent, awaiting response... 302 Found\n",
      "Location: https://raw.githubusercontent.com/mguner/DATA601_SP21/main/data/Archive.zip [following]\n",
      "--2021-03-10 11:49:20--  https://raw.githubusercontent.com/mguner/DATA601_SP21/main/data/Archive.zip\n",
      "Resolving raw.githubusercontent.com (raw.githubusercontent.com)... 185.199.109.133, 185.199.111.133, 185.199.108.133, ...\n",
      "Connecting to raw.githubusercontent.com (raw.githubusercontent.com)|185.199.109.133|:443... connected.\n",
      "HTTP request sent, awaiting response... 200 OK\n",
      "Length: 104858 (102K) [application/zip]\n",
      "Saving to: ‘Archive.zip’\n",
      "\n",
      "Archive.zip         100%[===================>] 102.40K  --.-KB/s    in 0.02s   \n",
      "\n",
      "2021-03-10 11:49:20 (5.13 MB/s) - ‘Archive.zip’ saved [104858/104858]\n",
      "\n"
     ]
    }
   ],
   "source": [
    "## Don't change this cell and make sure that you run this cell.\n",
    "!wget https://github.com/mguner/DATA601_SP21/raw/main/data/Archive.zip"
   ]
  },
  {
   "cell_type": "markdown",
   "metadata": {
    "id": "5XPrrKnzXNVH"
   },
   "source": [
    "3. Unzip the file"
   ]
  },
  {
   "cell_type": "markdown",
   "metadata": {
    "id": "yOvS6FF3XQQc"
   },
   "source": [
    "There should be a zipped file in `/content/Archive.zip` unzip this file in `content` folder. (Note: `content` directory is the current working directory. So you don't need to do anything extra)"
   ]
  },
  {
   "cell_type": "code",
   "execution_count": null,
   "metadata": {
    "id": "jOGSSWPKDkrB"
   },
   "outputs": [],
   "source": [
    "from google.colab import drive"
   ]
  },
  {
   "cell_type": "code",
   "execution_count": null,
   "metadata": {
    "id": "3diDWImHC_hH"
   },
   "outputs": [],
   "source": [
    "!unzip -uq \"/content/Archive.zip\""
   ]
  },
  {
   "cell_type": "markdown",
   "metadata": {
    "id": "1ZKQoBXlX6G9"
   },
   "source": [
    "__Note:__ If you cannot solve this problem then you will not be able to work on this homework. In this case, you can buy the answer by reaching out to me as an exchange of 20% of your grade. "
   ]
  },
  {
   "cell_type": "code",
   "execution_count": null,
   "metadata": {
    "id": "XmrVvCXrVMuE"
   },
   "outputs": [],
   "source": [
    "## your answer is here"
   ]
  },
  {
   "cell_type": "markdown",
   "metadata": {
    "id": "P1mNS3HLY5Z_"
   },
   "source": [
    "4. Import pandas and read the datasets"
   ]
  },
  {
   "cell_type": "code",
   "execution_count": null,
   "metadata": {
    "id": "jPpBaMKIb7nD"
   },
   "outputs": [],
   "source": [
    "## Assuming you were able to unzip the file.\n",
    "## Don't change the names of the datasets.\n",
    "import pandas as pd\n",
    "maryland_hs =pd.read_csv('/content/maryland_hs.csv', index_col= 0)\n",
    "dmv_hs = pd.read_csv('/content/dmv_hs.csv', index_col= 0)"
   ]
  },
  {
   "cell_type": "code",
   "execution_count": null,
   "metadata": {
    "colab": {
     "base_uri": "https://localhost:8080/",
     "height": 548
    },
    "id": "S3cO-b_4mgja",
    "outputId": "fba64df1-de7f-45bf-d78e-a703203100e1"
   },
   "outputs": [
    {
     "data": {
      "text/html": [
       "<div>\n",
       "<style scoped>\n",
       "    .dataframe tbody tr th:only-of-type {\n",
       "        vertical-align: middle;\n",
       "    }\n",
       "\n",
       "    .dataframe tbody tr th {\n",
       "        vertical-align: top;\n",
       "    }\n",
       "\n",
       "    .dataframe thead th {\n",
       "        text-align: right;\n",
       "    }\n",
       "</style>\n",
       "<table border=\"1\" class=\"dataframe\">\n",
       "  <thead>\n",
       "    <tr style=\"text-align: right;\">\n",
       "      <th></th>\n",
       "      <th>School Name</th>\n",
       "      <th>State Name [Public School] Latest available year</th>\n",
       "      <th>Lowest Grade Offered [Public School] 2018-19</th>\n",
       "      <th>Highest Grade Offered [Public School] 2018-19</th>\n",
       "      <th>Total Students All Grades (Excludes AE) [Public School] 2018-19</th>\n",
       "      <th>Free and Reduced Lunch Students [Public School] 2018-19</th>\n",
       "      <th>Reduced-price Lunch Eligible Students [Public School] 2018-19</th>\n",
       "      <th>Latitude [Public School] 2018-19</th>\n",
       "      <th>Longitude [Public School] 2018-19</th>\n",
       "      <th>Magnet School [Public School] 2018-19</th>\n",
       "      <th>Charter School [Public School] 2018-19</th>\n",
       "      <th>Shared Time School [Public School] 2018-19</th>\n",
       "      <th>Urban-centric Locale [Public School] 2018-19</th>\n",
       "    </tr>\n",
       "  </thead>\n",
       "  <tbody>\n",
       "    <tr>\n",
       "      <th>0</th>\n",
       "      <td>ABERDEEN HIGH</td>\n",
       "      <td>Maryland</td>\n",
       "      <td>9th Grade</td>\n",
       "      <td>12th Grade</td>\n",
       "      <td>1458</td>\n",
       "      <td>661</td>\n",
       "      <td>124</td>\n",
       "      <td>39.516307</td>\n",
       "      <td>-76.171125</td>\n",
       "      <td>1-Yes</td>\n",
       "      <td>2-No</td>\n",
       "      <td>2-No</td>\n",
       "      <td>22-Suburb: Mid-size</td>\n",
       "    </tr>\n",
       "    <tr>\n",
       "      <th>1</th>\n",
       "      <td>ACADEMY OF HEALTH SCIENCES AT PGCC</td>\n",
       "      <td>Maryland</td>\n",
       "      <td>9th Grade</td>\n",
       "      <td>12th Grade</td>\n",
       "      <td>518</td>\n",
       "      <td>237</td>\n",
       "      <td>67</td>\n",
       "      <td>38.886849</td>\n",
       "      <td>-76.830282</td>\n",
       "      <td>1-Yes</td>\n",
       "      <td>2-No</td>\n",
       "      <td>2-No</td>\n",
       "      <td>21-Suburb: Large</td>\n",
       "    </tr>\n",
       "    <tr>\n",
       "      <th>2</th>\n",
       "      <td>ACHIEVEMENT ACADEMY @ HARBOR CITY HIGH</td>\n",
       "      <td>Maryland</td>\n",
       "      <td>9th Grade</td>\n",
       "      <td>12th Grade</td>\n",
       "      <td>411</td>\n",
       "      <td>411</td>\n",
       "      <td>=\"0\"</td>\n",
       "      <td>39.365730</td>\n",
       "      <td>-76.569931</td>\n",
       "      <td>2-No</td>\n",
       "      <td>2-No</td>\n",
       "      <td>2-No</td>\n",
       "      <td>11-City: Large</td>\n",
       "    </tr>\n",
       "    <tr>\n",
       "      <th>3</th>\n",
       "      <td>ALBERT EINSTEIN HIGH</td>\n",
       "      <td>Maryland</td>\n",
       "      <td>9th Grade</td>\n",
       "      <td>12th Grade</td>\n",
       "      <td>1746</td>\n",
       "      <td>633</td>\n",
       "      <td>147</td>\n",
       "      <td>39.039079</td>\n",
       "      <td>-77.067288</td>\n",
       "      <td>2-No</td>\n",
       "      <td>2-No</td>\n",
       "      <td>2-No</td>\n",
       "      <td>21-Suburb: Large</td>\n",
       "    </tr>\n",
       "    <tr>\n",
       "      <th>4</th>\n",
       "      <td>ALLEGANY HIGH</td>\n",
       "      <td>Maryland</td>\n",
       "      <td>9th Grade</td>\n",
       "      <td>12th Grade</td>\n",
       "      <td>721</td>\n",
       "      <td>264</td>\n",
       "      <td>40</td>\n",
       "      <td>39.655478</td>\n",
       "      <td>-78.794695</td>\n",
       "      <td>2-No</td>\n",
       "      <td>2-No</td>\n",
       "      <td>2-No</td>\n",
       "      <td>13-City: Small</td>\n",
       "    </tr>\n",
       "  </tbody>\n",
       "</table>\n",
       "</div>"
      ],
      "text/plain": [
       "                              School Name  ... Urban-centric Locale [Public School] 2018-19\n",
       "0                           ABERDEEN HIGH  ...                          22-Suburb: Mid-size\n",
       "1      ACADEMY OF HEALTH SCIENCES AT PGCC  ...                             21-Suburb: Large\n",
       "2  ACHIEVEMENT ACADEMY @ HARBOR CITY HIGH  ...                               11-City: Large\n",
       "3                    ALBERT EINSTEIN HIGH  ...                             21-Suburb: Large\n",
       "4                           ALLEGANY HIGH  ...                               13-City: Small\n",
       "\n",
       "[5 rows x 13 columns]"
      ]
     },
     "execution_count": 7,
     "metadata": {
      "tags": []
     },
     "output_type": "execute_result"
    }
   ],
   "source": [
    "maryland_hs.head()"
   ]
  },
  {
   "cell_type": "code",
   "execution_count": null,
   "metadata": {
    "colab": {
     "base_uri": "https://localhost:8080/",
     "height": 377
    },
    "id": "ANlr0xjumqRU",
    "outputId": "088c6a0e-2cfe-4496-fe80-fcf40dcc0e07"
   },
   "outputs": [
    {
     "data": {
      "text/html": [
       "<div>\n",
       "<style scoped>\n",
       "    .dataframe tbody tr th:only-of-type {\n",
       "        vertical-align: middle;\n",
       "    }\n",
       "\n",
       "    .dataframe tbody tr th {\n",
       "        vertical-align: top;\n",
       "    }\n",
       "\n",
       "    .dataframe thead th {\n",
       "        text-align: right;\n",
       "    }\n",
       "</style>\n",
       "<table border=\"1\" class=\"dataframe\">\n",
       "  <thead>\n",
       "    <tr style=\"text-align: right;\">\n",
       "      <th></th>\n",
       "      <th>school_name</th>\n",
       "      <th>state_name_latest_available_year</th>\n",
       "      <th>school_id_nces_assigned_latest_available_year</th>\n",
       "      <th>county_name</th>\n",
       "      <th>mailing_address_3</th>\n",
       "      <th>location_zip</th>\n",
       "      <th>magnet_school</th>\n",
       "      <th>shared_time_school</th>\n",
       "      <th>urban_centric_locale</th>\n",
       "      <th>school_wide_title_i</th>\n",
       "      <th>state_agency_id</th>\n",
       "      <th>state_school_id</th>\n",
       "    </tr>\n",
       "  </thead>\n",
       "  <tbody>\n",
       "    <tr>\n",
       "      <th>0</th>\n",
       "      <td>A G RICHARDSON ELEM</td>\n",
       "      <td>Virginia</td>\n",
       "      <td>510105000374</td>\n",
       "      <td>Culpeper County</td>\n",
       "      <td>†</td>\n",
       "      <td>22701</td>\n",
       "      <td>2-No</td>\n",
       "      <td>2-No</td>\n",
       "      <td>32-Town: Distant</td>\n",
       "      <td>†</td>\n",
       "      <td>VA-024</td>\n",
       "      <td>VA-024-0240240</td>\n",
       "    </tr>\n",
       "    <tr>\n",
       "      <th>1</th>\n",
       "      <td>A M DAVIS ELEM</td>\n",
       "      <td>Virginia</td>\n",
       "      <td>510084000314</td>\n",
       "      <td>Chesterfield County</td>\n",
       "      <td>†</td>\n",
       "      <td>23236</td>\n",
       "      <td>2-No</td>\n",
       "      <td>2-No</td>\n",
       "      <td>21-Suburb: Large</td>\n",
       "      <td>1-Yes</td>\n",
       "      <td>VA-021</td>\n",
       "      <td>VA-021-0210620</td>\n",
       "    </tr>\n",
       "    <tr>\n",
       "      <th>2</th>\n",
       "      <td>A. HENDERSON ELEM</td>\n",
       "      <td>Virginia</td>\n",
       "      <td>510313002039</td>\n",
       "      <td>Prince William County</td>\n",
       "      <td>†</td>\n",
       "      <td>22025</td>\n",
       "      <td>2-No</td>\n",
       "      <td>2-No</td>\n",
       "      <td>21-Suburb: Large</td>\n",
       "      <td>†</td>\n",
       "      <td>VA-075</td>\n",
       "      <td>VA-075-0750330</td>\n",
       "    </tr>\n",
       "    <tr>\n",
       "      <th>3</th>\n",
       "      <td>A. LINWOOD HOLTON GOV. SCH.</td>\n",
       "      <td>Virginia</td>\n",
       "      <td>510003301933</td>\n",
       "      <td>Washington County</td>\n",
       "      <td>†</td>\n",
       "      <td>24210</td>\n",
       "      <td>1-Yes</td>\n",
       "      <td>1-Yes</td>\n",
       "      <td>23-Suburb: Small</td>\n",
       "      <td>†</td>\n",
       "      <td>VA-268</td>\n",
       "      <td>VA-268-2680010</td>\n",
       "    </tr>\n",
       "    <tr>\n",
       "      <th>4</th>\n",
       "      <td>A. MARIO LOIEDERMAN MIDDLE</td>\n",
       "      <td>Maryland</td>\n",
       "      <td>240048001446</td>\n",
       "      <td>Montgomery County</td>\n",
       "      <td>†</td>\n",
       "      <td>20906</td>\n",
       "      <td>1-Yes</td>\n",
       "      <td>2-No</td>\n",
       "      <td>21-Suburb: Large</td>\n",
       "      <td>1-Yes</td>\n",
       "      <td>MD-15</td>\n",
       "      <td>MD-15-150787</td>\n",
       "    </tr>\n",
       "  </tbody>\n",
       "</table>\n",
       "</div>"
      ],
      "text/plain": [
       "                   school_name  ... state_school_id\n",
       "0          A G RICHARDSON ELEM  ...  VA-024-0240240\n",
       "1               A M DAVIS ELEM  ...  VA-021-0210620\n",
       "2            A. HENDERSON ELEM  ...  VA-075-0750330\n",
       "3  A. LINWOOD HOLTON GOV. SCH.  ...  VA-268-2680010\n",
       "4   A. MARIO LOIEDERMAN MIDDLE  ...    MD-15-150787\n",
       "\n",
       "[5 rows x 12 columns]"
      ]
     },
     "execution_count": 8,
     "metadata": {
      "tags": []
     },
     "output_type": "execute_result"
    }
   ],
   "source": [
    "dmv_hs.head()"
   ]
  },
  {
   "cell_type": "markdown",
   "metadata": {
    "id": "Q6IPX95UdRm1"
   },
   "source": [
    "# Part-II: Questions"
   ]
  },
  {
   "cell_type": "markdown",
   "metadata": {
    "id": "VGl1fiRmbwS7"
   },
   "source": [
    "## Problem"
   ]
  },
  {
   "cell_type": "markdown",
   "metadata": {
    "id": "6i11RwcDdYQ3"
   },
   "source": [
    "Rename columns in the [snake case](https://en.wikipedia.org/wiki/Snake_case#:~:text=Snake%20case%20(stylized%20as%20snake_case,subroutine%20names%2C%20and%20for%20filenames.) format."
   ]
  },
  {
   "cell_type": "code",
   "execution_count": null,
   "metadata": {
    "id": "HYTNRDBOb_zo"
   },
   "outputs": [],
   "source": [
    "## your answer is here\n",
    "\n",
    "maryland_hs.columns=maryland_hs.columns.str.replace(' ','_')\n",
    "maryland_hs.columns=maryland_hs.columns.str.lower()"
   ]
  },
  {
   "cell_type": "markdown",
   "metadata": {
    "id": "mjADbqQJLHyd"
   },
   "source": []
  },
  {
   "cell_type": "code",
   "execution_count": null,
   "metadata": {
    "colab": {
     "base_uri": "https://localhost:8080/"
    },
    "id": "hpn3Jo2lNHDa",
    "outputId": "2c27a31e-7893-4f00-f7ac-3e4da2c1ea3c"
   },
   "outputs": [
    {
     "data": {
      "text/plain": [
       "Index(['school_name', 'state_name_[public_school]_latest_available_year',\n",
       "       'lowest_grade_offered_[public_school]_2018-19',\n",
       "       'highest_grade_offered_[public_school]_2018-19',\n",
       "       'total_students_all_grades_(excludes_ae)_[public_school]_2018-19',\n",
       "       'free_and_reduced_lunch_students_[public_school]_2018-19',\n",
       "       'reduced-price_lunch_eligible_students_[public_school]_2018-19',\n",
       "       'latitude_[public_school]_2018-19', 'longitude_[public_school]_2018-19',\n",
       "       'magnet_school_[public_school]_2018-19',\n",
       "       'charter_school_[public_school]_2018-19',\n",
       "       'shared_time_school_[public_school]_2018-19',\n",
       "       'urban-centric_locale_[public_school]_2018-19'],\n",
       "      dtype='object')"
      ]
     },
     "execution_count": 10,
     "metadata": {
      "tags": []
     },
     "output_type": "execute_result"
    }
   ],
   "source": [
    "maryland_hs.columns"
   ]
  },
  {
   "cell_type": "markdown",
   "metadata": {
    "id": "cjG33h3fezm7"
   },
   "source": [
    "## Problem: Extra"
   ]
  },
  {
   "cell_type": "markdown",
   "metadata": {
    "id": "ZupTv7Nbe2ti"
   },
   "source": [
    "Can you get rid of the strings \"[public_school]\" and \"2018-19\" and \"(excludes_ae)\" from column names?"
   ]
  },
  {
   "cell_type": "code",
   "execution_count": null,
   "metadata": {
    "colab": {
     "base_uri": "https://localhost:8080/"
    },
    "id": "yLa4u-7QdNbU",
    "outputId": "fefc0aa9-ec97-4bbf-f5c7-890ef9401e3e"
   },
   "outputs": [
    {
     "name": "stderr",
     "output_type": "stream",
     "text": [
      "/usr/local/lib/python3.7/dist-packages/pandas/core/strings.py:710: FutureWarning: Possible nested set at position 1\n",
      "  compiled = re.compile(pat, flags=flags)\n"
     ]
    }
   ],
   "source": [
    "## your answer is here\n",
    "maryland_hs.columns=maryland_hs.columns.str.replace(\"public_school\", '')\n",
    "maryland_hs.columns=maryland_hs.columns.str.replace(\"2018-19\", '')\n",
    "maryland_hs.columns=maryland_hs.columns.str.replace(\"excludes_ae\", '')\n",
    "maryland_hs.columns = maryland_hs.columns.str.replace(r\"[[]]\", \"\")\n",
    "maryland_hs.columns = maryland_hs.columns.str.replace(r\"[()__]\", \"\")\n",
    "#maryland_hs.columns = maryland_hs.columns.str.replace(r\"[_\", \"\")\n",
    "#maryland_hs.columns.str.replace(\"_[]_\", '')\n",
    "#maryland_hs.columns.str.strip('[public_school]')\n",
    "#maryland_hs.columns = maryland_hs.columns.str.replace('2018-19', '')\n",
    "#maryland_hs.columns = maryland_hs.columns.str.replace('(excludes_ae)', '')\n",
    "#df.columns = df.columns.str.rstrip('_x')"
   ]
  },
  {
   "cell_type": "code",
   "execution_count": null,
   "metadata": {
    "colab": {
     "base_uri": "https://localhost:8080/"
    },
    "id": "nOv4lJcNoVrR",
    "outputId": "343672ff-9d53-4356-a8e7-0ce380d43d31"
   },
   "outputs": [
    {
     "data": {
      "text/plain": [
       "Index(['schoolname', 'statenamelatestavailableyear', 'lowestgradeoffered',\n",
       "       'highestgradeoffered', 'totalstudentsallgrades',\n",
       "       'freeandreducedlunchstudents', 'reduced-priceluncheligiblestudents',\n",
       "       'latitude', 'longitude', 'magnetschool', 'charterschool',\n",
       "       'sharedtimeschool', 'urban-centriclocale'],\n",
       "      dtype='object')"
      ]
     },
     "execution_count": 12,
     "metadata": {
      "tags": []
     },
     "output_type": "execute_result"
    }
   ],
   "source": [
    "maryland_hs.columns"
   ]
  },
  {
   "cell_type": "code",
   "execution_count": null,
   "metadata": {
    "colab": {
     "base_uri": "https://localhost:8080/",
     "height": 216
    },
    "id": "-QjjqwOnnG4n",
    "outputId": "fcf3977d-5228-4f62-b9fb-1085fb57829a"
   },
   "outputs": [
    {
     "data": {
      "text/html": [
       "<div>\n",
       "<style scoped>\n",
       "    .dataframe tbody tr th:only-of-type {\n",
       "        vertical-align: middle;\n",
       "    }\n",
       "\n",
       "    .dataframe tbody tr th {\n",
       "        vertical-align: top;\n",
       "    }\n",
       "\n",
       "    .dataframe thead th {\n",
       "        text-align: right;\n",
       "    }\n",
       "</style>\n",
       "<table border=\"1\" class=\"dataframe\">\n",
       "  <thead>\n",
       "    <tr style=\"text-align: right;\">\n",
       "      <th></th>\n",
       "      <th>school_name</th>\n",
       "      <th>state_name_latest_available_year</th>\n",
       "      <th>lowest_grade_offered</th>\n",
       "      <th>highest_grade_offered</th>\n",
       "      <th>total_students_all_grades</th>\n",
       "      <th>free_and_reduced_lunch_students</th>\n",
       "      <th>reduced-price_lunch_eligible_students</th>\n",
       "      <th>latitude</th>\n",
       "      <th>longitude</th>\n",
       "      <th>magnet_school</th>\n",
       "      <th>charter_school</th>\n",
       "      <th>shared_time_school</th>\n",
       "      <th>urban-centric_locale</th>\n",
       "    </tr>\n",
       "  </thead>\n",
       "  <tbody>\n",
       "    <tr>\n",
       "      <th>0</th>\n",
       "      <td>ABERDEEN HIGH</td>\n",
       "      <td>Maryland</td>\n",
       "      <td>9th Grade</td>\n",
       "      <td>12th Grade</td>\n",
       "      <td>1458</td>\n",
       "      <td>661</td>\n",
       "      <td>124</td>\n",
       "      <td>39.516307</td>\n",
       "      <td>-76.171125</td>\n",
       "      <td>1-Yes</td>\n",
       "      <td>2-No</td>\n",
       "      <td>2-No</td>\n",
       "      <td>22-Suburb: Mid-size</td>\n",
       "    </tr>\n",
       "    <tr>\n",
       "      <th>1</th>\n",
       "      <td>ACADEMY OF HEALTH SCIENCES AT PGCC</td>\n",
       "      <td>Maryland</td>\n",
       "      <td>9th Grade</td>\n",
       "      <td>12th Grade</td>\n",
       "      <td>518</td>\n",
       "      <td>237</td>\n",
       "      <td>67</td>\n",
       "      <td>38.886849</td>\n",
       "      <td>-76.830282</td>\n",
       "      <td>1-Yes</td>\n",
       "      <td>2-No</td>\n",
       "      <td>2-No</td>\n",
       "      <td>21-Suburb: Large</td>\n",
       "    </tr>\n",
       "  </tbody>\n",
       "</table>\n",
       "</div>"
      ],
      "text/plain": [
       "                          school_name  ... urban-centric_locale\n",
       "0                       ABERDEEN HIGH  ...  22-Suburb: Mid-size\n",
       "1  ACADEMY OF HEALTH SCIENCES AT PGCC  ...     21-Suburb: Large\n",
       "\n",
       "[2 rows x 13 columns]"
      ]
     },
     "execution_count": 13,
     "metadata": {
      "tags": []
     },
     "output_type": "execute_result"
    }
   ],
   "source": [
    "## Don't change anything in this cell\n",
    "## Make sure you run this cell\n",
    "\n",
    "new_columns = ['school_name',\n",
    " 'state_name_latest_available_year',\n",
    " 'lowest_grade_offered',\n",
    " 'highest_grade_offered',\n",
    " 'total_students_all_grades',\n",
    " 'free_and_reduced_lunch_students',\n",
    " 'reduced-price_lunch_eligible_students',\n",
    " 'latitude',\n",
    " 'longitude',\n",
    " 'magnet_school',\n",
    " 'charter_school',\n",
    " 'shared_time_school',\n",
    " 'urban-centric_locale']\n",
    "maryland_hs.columns = new_columns\n",
    "maryland_hs.head(2)"
   ]
  },
  {
   "cell_type": "code",
   "execution_count": null,
   "metadata": {
    "id": "ncFwCHAuvisR"
   },
   "outputs": [],
   "source": []
  },
  {
   "cell_type": "markdown",
   "metadata": {
    "id": "stl0P9Pj8jbG"
   },
   "source": [
    "## Problem "
   ]
  },
  {
   "cell_type": "markdown",
   "metadata": {
    "id": "FvVuohUd8qR8"
   },
   "source": [
    "In both `maryland_hs` and `dmv_hs` rename the column `state_name_latest_available_year` with `state_name`. Make sure that the changes reflected in the original dataset."
   ]
  },
  {
   "cell_type": "code",
   "execution_count": null,
   "metadata": {
    "colab": {
     "base_uri": "https://localhost:8080/"
    },
    "id": "E9ohwxeowbUx",
    "outputId": "9619e8b8-4ec9-4e8b-d9f8-a6fbe86386dc"
   },
   "outputs": [
    {
     "data": {
      "text/plain": [
       "Index(['school_name', 'state_name_latest_available_year',\n",
       "       'school_id_nces_assigned_latest_available_year', 'county_name',\n",
       "       'mailing_address_3', 'location_zip', 'magnet_school',\n",
       "       'shared_time_school', 'urban_centric_locale', 'school_wide_title_i',\n",
       "       'state_agency_id', 'state_school_id'],\n",
       "      dtype='object')"
      ]
     },
     "execution_count": 14,
     "metadata": {
      "tags": []
     },
     "output_type": "execute_result"
    }
   ],
   "source": [
    "dmv_hs.columns"
   ]
  },
  {
   "cell_type": "code",
   "execution_count": null,
   "metadata": {
    "id": "bQEKq0EJ853Z"
   },
   "outputs": [],
   "source": [
    "## your answer is here\n",
    "maryland_hs.rename(columns={'state_name_latest_available_year':'state_name'},inplace=True)\n",
    "dmv_hs.rename(columns={'state_name_latest_available_year':'state_name'},inplace=True)"
   ]
  },
  {
   "cell_type": "code",
   "execution_count": null,
   "metadata": {
    "colab": {
     "base_uri": "https://localhost:8080/",
     "height": 411
    },
    "id": "VJjH8YUuwAJH",
    "outputId": "af1f25b5-88cb-4923-e9e9-e1b7ca05ac0a"
   },
   "outputs": [
    {
     "data": {
      "text/html": [
       "<div>\n",
       "<style scoped>\n",
       "    .dataframe tbody tr th:only-of-type {\n",
       "        vertical-align: middle;\n",
       "    }\n",
       "\n",
       "    .dataframe tbody tr th {\n",
       "        vertical-align: top;\n",
       "    }\n",
       "\n",
       "    .dataframe thead th {\n",
       "        text-align: right;\n",
       "    }\n",
       "</style>\n",
       "<table border=\"1\" class=\"dataframe\">\n",
       "  <thead>\n",
       "    <tr style=\"text-align: right;\">\n",
       "      <th></th>\n",
       "      <th>school_name</th>\n",
       "      <th>state_name</th>\n",
       "      <th>lowest_grade_offered</th>\n",
       "      <th>highest_grade_offered</th>\n",
       "      <th>total_students_all_grades</th>\n",
       "      <th>free_and_reduced_lunch_students</th>\n",
       "      <th>reduced-price_lunch_eligible_students</th>\n",
       "      <th>latitude</th>\n",
       "      <th>longitude</th>\n",
       "      <th>magnet_school</th>\n",
       "      <th>charter_school</th>\n",
       "      <th>shared_time_school</th>\n",
       "      <th>urban-centric_locale</th>\n",
       "    </tr>\n",
       "  </thead>\n",
       "  <tbody>\n",
       "    <tr>\n",
       "      <th>0</th>\n",
       "      <td>ABERDEEN HIGH</td>\n",
       "      <td>Maryland</td>\n",
       "      <td>9th Grade</td>\n",
       "      <td>12th Grade</td>\n",
       "      <td>1458</td>\n",
       "      <td>661</td>\n",
       "      <td>124</td>\n",
       "      <td>39.516307</td>\n",
       "      <td>-76.171125</td>\n",
       "      <td>1-Yes</td>\n",
       "      <td>2-No</td>\n",
       "      <td>2-No</td>\n",
       "      <td>22-Suburb: Mid-size</td>\n",
       "    </tr>\n",
       "    <tr>\n",
       "      <th>1</th>\n",
       "      <td>ACADEMY OF HEALTH SCIENCES AT PGCC</td>\n",
       "      <td>Maryland</td>\n",
       "      <td>9th Grade</td>\n",
       "      <td>12th Grade</td>\n",
       "      <td>518</td>\n",
       "      <td>237</td>\n",
       "      <td>67</td>\n",
       "      <td>38.886849</td>\n",
       "      <td>-76.830282</td>\n",
       "      <td>1-Yes</td>\n",
       "      <td>2-No</td>\n",
       "      <td>2-No</td>\n",
       "      <td>21-Suburb: Large</td>\n",
       "    </tr>\n",
       "    <tr>\n",
       "      <th>2</th>\n",
       "      <td>ACHIEVEMENT ACADEMY @ HARBOR CITY HIGH</td>\n",
       "      <td>Maryland</td>\n",
       "      <td>9th Grade</td>\n",
       "      <td>12th Grade</td>\n",
       "      <td>411</td>\n",
       "      <td>411</td>\n",
       "      <td>=\"0\"</td>\n",
       "      <td>39.365730</td>\n",
       "      <td>-76.569931</td>\n",
       "      <td>2-No</td>\n",
       "      <td>2-No</td>\n",
       "      <td>2-No</td>\n",
       "      <td>11-City: Large</td>\n",
       "    </tr>\n",
       "    <tr>\n",
       "      <th>3</th>\n",
       "      <td>ALBERT EINSTEIN HIGH</td>\n",
       "      <td>Maryland</td>\n",
       "      <td>9th Grade</td>\n",
       "      <td>12th Grade</td>\n",
       "      <td>1746</td>\n",
       "      <td>633</td>\n",
       "      <td>147</td>\n",
       "      <td>39.039079</td>\n",
       "      <td>-77.067288</td>\n",
       "      <td>2-No</td>\n",
       "      <td>2-No</td>\n",
       "      <td>2-No</td>\n",
       "      <td>21-Suburb: Large</td>\n",
       "    </tr>\n",
       "    <tr>\n",
       "      <th>4</th>\n",
       "      <td>ALLEGANY HIGH</td>\n",
       "      <td>Maryland</td>\n",
       "      <td>9th Grade</td>\n",
       "      <td>12th Grade</td>\n",
       "      <td>721</td>\n",
       "      <td>264</td>\n",
       "      <td>40</td>\n",
       "      <td>39.655478</td>\n",
       "      <td>-78.794695</td>\n",
       "      <td>2-No</td>\n",
       "      <td>2-No</td>\n",
       "      <td>2-No</td>\n",
       "      <td>13-City: Small</td>\n",
       "    </tr>\n",
       "  </tbody>\n",
       "</table>\n",
       "</div>"
      ],
      "text/plain": [
       "                              school_name  ... urban-centric_locale\n",
       "0                           ABERDEEN HIGH  ...  22-Suburb: Mid-size\n",
       "1      ACADEMY OF HEALTH SCIENCES AT PGCC  ...     21-Suburb: Large\n",
       "2  ACHIEVEMENT ACADEMY @ HARBOR CITY HIGH  ...       11-City: Large\n",
       "3                    ALBERT EINSTEIN HIGH  ...     21-Suburb: Large\n",
       "4                           ALLEGANY HIGH  ...       13-City: Small\n",
       "\n",
       "[5 rows x 13 columns]"
      ]
     },
     "execution_count": 16,
     "metadata": {
      "tags": []
     },
     "output_type": "execute_result"
    }
   ],
   "source": [
    "maryland_hs.head()"
   ]
  },
  {
   "cell_type": "code",
   "execution_count": null,
   "metadata": {
    "colab": {
     "base_uri": "https://localhost:8080/",
     "height": 182
    },
    "id": "_w2vdYmkv0g3",
    "outputId": "3ca46d1a-ca27-4570-aa4a-31d20732e0ff"
   },
   "outputs": [
    {
     "data": {
      "text/html": [
       "<div>\n",
       "<style scoped>\n",
       "    .dataframe tbody tr th:only-of-type {\n",
       "        vertical-align: middle;\n",
       "    }\n",
       "\n",
       "    .dataframe tbody tr th {\n",
       "        vertical-align: top;\n",
       "    }\n",
       "\n",
       "    .dataframe thead th {\n",
       "        text-align: right;\n",
       "    }\n",
       "</style>\n",
       "<table border=\"1\" class=\"dataframe\">\n",
       "  <thead>\n",
       "    <tr style=\"text-align: right;\">\n",
       "      <th></th>\n",
       "      <th>school_name</th>\n",
       "      <th>state_name</th>\n",
       "      <th>school_id_nces_assigned_latest_available_year</th>\n",
       "      <th>county_name</th>\n",
       "      <th>mailing_address_3</th>\n",
       "      <th>location_zip</th>\n",
       "      <th>magnet_school</th>\n",
       "      <th>shared_time_school</th>\n",
       "      <th>urban_centric_locale</th>\n",
       "      <th>school_wide_title_i</th>\n",
       "      <th>state_agency_id</th>\n",
       "      <th>state_school_id</th>\n",
       "    </tr>\n",
       "  </thead>\n",
       "  <tbody>\n",
       "    <tr>\n",
       "      <th>0</th>\n",
       "      <td>A G RICHARDSON ELEM</td>\n",
       "      <td>Virginia</td>\n",
       "      <td>510105000374</td>\n",
       "      <td>Culpeper County</td>\n",
       "      <td>†</td>\n",
       "      <td>22701</td>\n",
       "      <td>2-No</td>\n",
       "      <td>2-No</td>\n",
       "      <td>32-Town: Distant</td>\n",
       "      <td>†</td>\n",
       "      <td>VA-024</td>\n",
       "      <td>VA-024-0240240</td>\n",
       "    </tr>\n",
       "    <tr>\n",
       "      <th>1</th>\n",
       "      <td>A M DAVIS ELEM</td>\n",
       "      <td>Virginia</td>\n",
       "      <td>510084000314</td>\n",
       "      <td>Chesterfield County</td>\n",
       "      <td>†</td>\n",
       "      <td>23236</td>\n",
       "      <td>2-No</td>\n",
       "      <td>2-No</td>\n",
       "      <td>21-Suburb: Large</td>\n",
       "      <td>1-Yes</td>\n",
       "      <td>VA-021</td>\n",
       "      <td>VA-021-0210620</td>\n",
       "    </tr>\n",
       "  </tbody>\n",
       "</table>\n",
       "</div>"
      ],
      "text/plain": [
       "           school_name state_name  ...  state_agency_id state_school_id\n",
       "0  A G RICHARDSON ELEM   Virginia  ...           VA-024  VA-024-0240240\n",
       "1       A M DAVIS ELEM   Virginia  ...           VA-021  VA-021-0210620\n",
       "\n",
       "[2 rows x 12 columns]"
      ]
     },
     "execution_count": 17,
     "metadata": {
      "tags": []
     },
     "output_type": "execute_result"
    }
   ],
   "source": [
    "dmv_hs.head(2)"
   ]
  },
  {
   "cell_type": "markdown",
   "metadata": {
    "id": "J-l_abit8Gmc"
   },
   "source": [
    "## Problem"
   ]
  },
  {
   "cell_type": "markdown",
   "metadata": {
    "id": "zz98z5z08JGd"
   },
   "source": [
    "a) How many different states are there in the `dmv_highschool` dataset? Make sure you check before jump into a conclusion."
   ]
  },
  {
   "cell_type": "code",
   "execution_count": null,
   "metadata": {
    "colab": {
     "base_uri": "https://localhost:8080/"
    },
    "id": "xwfxufJJgVLG",
    "outputId": "1de48410-cf02-4199-fa83-fba4c9362857"
   },
   "outputs": [
    {
     "data": {
      "text/plain": [
       "6"
      ]
     },
     "execution_count": 18,
     "metadata": {
      "tags": []
     },
     "output_type": "execute_result"
    }
   ],
   "source": [
    "## your answer is here\n",
    "dmv_hs['state_name'].nunique()"
   ]
  },
  {
   "cell_type": "markdown",
   "metadata": {
    "id": "4jVGjKME8d7R"
   },
   "source": [
    "b) Standardize the state names in __both__ dataframes. First letter capital, all others lower case. e.g. MArylanD --> Maryland. Double check your answer."
   ]
  },
  {
   "cell_type": "code",
   "execution_count": null,
   "metadata": {
    "id": "iyuor9xpenL0"
   },
   "outputs": [],
   "source": [
    "## your answer is here\n",
    "maryland_hs['state_name']=maryland_hs['state_name'].str.title()\n",
    "dmv_hs['state_name']=dmv_hs['state_name'].str.title()"
   ]
  },
  {
   "cell_type": "code",
   "execution_count": null,
   "metadata": {
    "id": "w6dsib5AGM23"
   },
   "outputs": [],
   "source": [
    "## double check here"
   ]
  },
  {
   "cell_type": "markdown",
   "metadata": {
    "id": "gH0gqXxSj7HN"
   },
   "source": [
    "## Problem"
   ]
  },
  {
   "cell_type": "markdown",
   "metadata": {
    "id": "Tk23dyVMKF89"
   },
   "source": [
    "a) Check in `maryland_hs` dataset whether there are any repeating `school_names`"
   ]
  },
  {
   "cell_type": "code",
   "execution_count": null,
   "metadata": {
    "colab": {
     "base_uri": "https://localhost:8080/"
    },
    "id": "CtY5MDaqKW6Q",
    "outputId": "a6194993-6fd3-444a-9631-cfbc09a7759f"
   },
   "outputs": [
    {
     "data": {
      "text/plain": [
       "CHESAPEAKE HIGH            2\n",
       "FREDERICK DOUGLASS HIGH    2\n",
       "Name: school_name, dtype: int64"
      ]
     },
     "execution_count": 21,
     "metadata": {
      "tags": []
     },
     "output_type": "execute_result"
    }
   ],
   "source": [
    "## your answer is here\n",
    "name=maryland_hs['school_name'].value_counts()\n",
    "name[name>1]"
   ]
  },
  {
   "cell_type": "markdown",
   "metadata": {
    "id": "VnjdKJjIHxuu"
   },
   "source": [
    "b) Check whether these schools are just a repetition or different schools."
   ]
  },
  {
   "cell_type": "code",
   "execution_count": null,
   "metadata": {
    "colab": {
     "base_uri": "https://localhost:8080/",
     "height": 182
    },
    "id": "TuuBNvTPI13E",
    "outputId": "ea921785-f9ae-444e-b4ef-a468fe4faaaa"
   },
   "outputs": [
    {
     "data": {
      "text/html": [
       "<div>\n",
       "<style scoped>\n",
       "    .dataframe tbody tr th:only-of-type {\n",
       "        vertical-align: middle;\n",
       "    }\n",
       "\n",
       "    .dataframe tbody tr th {\n",
       "        vertical-align: top;\n",
       "    }\n",
       "\n",
       "    .dataframe thead th {\n",
       "        text-align: right;\n",
       "    }\n",
       "</style>\n",
       "<table border=\"1\" class=\"dataframe\">\n",
       "  <thead>\n",
       "    <tr style=\"text-align: right;\">\n",
       "      <th></th>\n",
       "      <th>school_name</th>\n",
       "      <th>state_name</th>\n",
       "      <th>lowest_grade_offered</th>\n",
       "      <th>highest_grade_offered</th>\n",
       "      <th>total_students_all_grades</th>\n",
       "      <th>free_and_reduced_lunch_students</th>\n",
       "      <th>reduced-price_lunch_eligible_students</th>\n",
       "      <th>latitude</th>\n",
       "      <th>longitude</th>\n",
       "      <th>magnet_school</th>\n",
       "      <th>charter_school</th>\n",
       "      <th>shared_time_school</th>\n",
       "      <th>urban-centric_locale</th>\n",
       "    </tr>\n",
       "  </thead>\n",
       "  <tbody>\n",
       "    <tr>\n",
       "      <th>36</th>\n",
       "      <td>CHESAPEAKE HIGH</td>\n",
       "      <td>Maryland</td>\n",
       "      <td>9th Grade</td>\n",
       "      <td>12th Grade</td>\n",
       "      <td>981</td>\n",
       "      <td>683</td>\n",
       "      <td>132</td>\n",
       "      <td>39.292693</td>\n",
       "      <td>-76.419421</td>\n",
       "      <td>1-Yes</td>\n",
       "      <td>2-No</td>\n",
       "      <td>2-No</td>\n",
       "      <td>21-Suburb: Large</td>\n",
       "    </tr>\n",
       "    <tr>\n",
       "      <th>37</th>\n",
       "      <td>CHESAPEAKE HIGH</td>\n",
       "      <td>Maryland</td>\n",
       "      <td>9th Grade</td>\n",
       "      <td>12th Grade</td>\n",
       "      <td>1379</td>\n",
       "      <td>208</td>\n",
       "      <td>46</td>\n",
       "      <td>39.110729</td>\n",
       "      <td>-76.462258</td>\n",
       "      <td>2-No</td>\n",
       "      <td>2-No</td>\n",
       "      <td>2-No</td>\n",
       "      <td>21-Suburb: Large</td>\n",
       "    </tr>\n",
       "  </tbody>\n",
       "</table>\n",
       "</div>"
      ],
      "text/plain": [
       "        school_name state_name  ... shared_time_school urban-centric_locale\n",
       "36  CHESAPEAKE HIGH   Maryland  ...               2-No     21-Suburb: Large\n",
       "37  CHESAPEAKE HIGH   Maryland  ...               2-No     21-Suburb: Large\n",
       "\n",
       "[2 rows x 13 columns]"
      ]
     },
     "execution_count": 22,
     "metadata": {
      "tags": []
     },
     "output_type": "execute_result"
    }
   ],
   "source": [
    "## your answer is here\n",
    "maryland_hs[maryland_hs['school_name']==\"CHESAPEAKE HIGH\"]"
   ]
  },
  {
   "cell_type": "code",
   "execution_count": null,
   "metadata": {
    "colab": {
     "base_uri": "https://localhost:8080/",
     "height": 216
    },
    "id": "rWHEIrQS2K-Y",
    "outputId": "de4b5cf0-7ec6-4744-f6e9-8a452887a9de"
   },
   "outputs": [
    {
     "data": {
      "text/html": [
       "<div>\n",
       "<style scoped>\n",
       "    .dataframe tbody tr th:only-of-type {\n",
       "        vertical-align: middle;\n",
       "    }\n",
       "\n",
       "    .dataframe tbody tr th {\n",
       "        vertical-align: top;\n",
       "    }\n",
       "\n",
       "    .dataframe thead th {\n",
       "        text-align: right;\n",
       "    }\n",
       "</style>\n",
       "<table border=\"1\" class=\"dataframe\">\n",
       "  <thead>\n",
       "    <tr style=\"text-align: right;\">\n",
       "      <th></th>\n",
       "      <th>school_name</th>\n",
       "      <th>state_name</th>\n",
       "      <th>lowest_grade_offered</th>\n",
       "      <th>highest_grade_offered</th>\n",
       "      <th>total_students_all_grades</th>\n",
       "      <th>free_and_reduced_lunch_students</th>\n",
       "      <th>reduced-price_lunch_eligible_students</th>\n",
       "      <th>latitude</th>\n",
       "      <th>longitude</th>\n",
       "      <th>magnet_school</th>\n",
       "      <th>charter_school</th>\n",
       "      <th>shared_time_school</th>\n",
       "      <th>urban-centric_locale</th>\n",
       "    </tr>\n",
       "  </thead>\n",
       "  <tbody>\n",
       "    <tr>\n",
       "      <th>67</th>\n",
       "      <td>FREDERICK DOUGLASS HIGH</td>\n",
       "      <td>Maryland</td>\n",
       "      <td>9th Grade</td>\n",
       "      <td>12th Grade</td>\n",
       "      <td>850</td>\n",
       "      <td>850</td>\n",
       "      <td>=\"0\"</td>\n",
       "      <td>39.314815</td>\n",
       "      <td>-76.654892</td>\n",
       "      <td>2-No</td>\n",
       "      <td>2-No</td>\n",
       "      <td>2-No</td>\n",
       "      <td>11-City: Large</td>\n",
       "    </tr>\n",
       "    <tr>\n",
       "      <th>68</th>\n",
       "      <td>FREDERICK DOUGLASS HIGH</td>\n",
       "      <td>Maryland</td>\n",
       "      <td>9th Grade</td>\n",
       "      <td>12th Grade</td>\n",
       "      <td>996</td>\n",
       "      <td>360</td>\n",
       "      <td>89</td>\n",
       "      <td>38.781506</td>\n",
       "      <td>-76.781720</td>\n",
       "      <td>2-No</td>\n",
       "      <td>2-No</td>\n",
       "      <td>2-No</td>\n",
       "      <td>41-Rural: Fringe</td>\n",
       "    </tr>\n",
       "  </tbody>\n",
       "</table>\n",
       "</div>"
      ],
      "text/plain": [
       "                school_name state_name  ... shared_time_school urban-centric_locale\n",
       "67  FREDERICK DOUGLASS HIGH   Maryland  ...               2-No       11-City: Large\n",
       "68  FREDERICK DOUGLASS HIGH   Maryland  ...               2-No     41-Rural: Fringe\n",
       "\n",
       "[2 rows x 13 columns]"
      ]
     },
     "execution_count": 23,
     "metadata": {
      "tags": []
     },
     "output_type": "execute_result"
    }
   ],
   "source": [
    "maryland_hs[maryland_hs['school_name']==\"FREDERICK DOUGLASS HIGH\"]"
   ]
  },
  {
   "cell_type": "markdown",
   "metadata": {
    "id": "A2obRU0MJKNZ"
   },
   "source": [
    "c) Merge data frames in such a way for each high school on the `maryland_hs` we would have missing columns from `dmv_hs` dataset. Hint: Resulting dataframe should have shape (204, 21). If you cannot make it exactly in this format, submit the best solution you can find."
   ]
  },
  {
   "cell_type": "code",
   "execution_count": null,
   "metadata": {
    "colab": {
     "base_uri": "https://localhost:8080/",
     "height": 746
    },
    "id": "Z_9c7tTuMnTN",
    "outputId": "9be65c30-18b3-4811-ed1b-7fdd60f2d3b3"
   },
   "outputs": [
    {
     "data": {
      "text/html": [
       "<div>\n",
       "<style scoped>\n",
       "    .dataframe tbody tr th:only-of-type {\n",
       "        vertical-align: middle;\n",
       "    }\n",
       "\n",
       "    .dataframe tbody tr th {\n",
       "        vertical-align: top;\n",
       "    }\n",
       "\n",
       "    .dataframe thead th {\n",
       "        text-align: right;\n",
       "    }\n",
       "</style>\n",
       "<table border=\"1\" class=\"dataframe\">\n",
       "  <thead>\n",
       "    <tr style=\"text-align: right;\">\n",
       "      <th></th>\n",
       "      <th>school_name</th>\n",
       "      <th>state_name</th>\n",
       "      <th>lowest_grade_offered</th>\n",
       "      <th>highest_grade_offered</th>\n",
       "      <th>total_students_all_grades</th>\n",
       "      <th>free_and_reduced_lunch_students</th>\n",
       "      <th>reduced-price_lunch_eligible_students</th>\n",
       "      <th>latitude</th>\n",
       "      <th>longitude</th>\n",
       "      <th>magnet_school</th>\n",
       "      <th>charter_school</th>\n",
       "      <th>shared_time_school</th>\n",
       "      <th>urban-centric_locale</th>\n",
       "      <th>school_id_nces_assigned_latest_available_year</th>\n",
       "      <th>county_name</th>\n",
       "      <th>mailing_address_3</th>\n",
       "      <th>location_zip</th>\n",
       "      <th>urban_centric_locale</th>\n",
       "      <th>school_wide_title_i</th>\n",
       "      <th>state_agency_id</th>\n",
       "      <th>state_school_id</th>\n",
       "    </tr>\n",
       "  </thead>\n",
       "  <tbody>\n",
       "    <tr>\n",
       "      <th>0</th>\n",
       "      <td>ABERDEEN HIGH</td>\n",
       "      <td>Maryland</td>\n",
       "      <td>9th Grade</td>\n",
       "      <td>12th Grade</td>\n",
       "      <td>1458</td>\n",
       "      <td>661</td>\n",
       "      <td>124</td>\n",
       "      <td>39.516307</td>\n",
       "      <td>-76.171125</td>\n",
       "      <td>1-Yes</td>\n",
       "      <td>2-No</td>\n",
       "      <td>2-No</td>\n",
       "      <td>22-Suburb: Mid-size</td>\n",
       "      <td>240039000679</td>\n",
       "      <td>Harford County</td>\n",
       "      <td>†</td>\n",
       "      <td>21001</td>\n",
       "      <td>22-Suburb: Mid-size</td>\n",
       "      <td>1-Yes</td>\n",
       "      <td>MD-12</td>\n",
       "      <td>MD-12-120270</td>\n",
       "    </tr>\n",
       "    <tr>\n",
       "      <th>1</th>\n",
       "      <td>ACADEMY OF HEALTH SCIENCES AT PGCC</td>\n",
       "      <td>Maryland</td>\n",
       "      <td>9th Grade</td>\n",
       "      <td>12th Grade</td>\n",
       "      <td>518</td>\n",
       "      <td>237</td>\n",
       "      <td>67</td>\n",
       "      <td>38.886849</td>\n",
       "      <td>-76.830282</td>\n",
       "      <td>1-Yes</td>\n",
       "      <td>2-No</td>\n",
       "      <td>2-No</td>\n",
       "      <td>21-Suburb: Large</td>\n",
       "      <td>240051001704</td>\n",
       "      <td>Prince George's County</td>\n",
       "      <td>†</td>\n",
       "      <td>20774</td>\n",
       "      <td>21-Suburb: Large</td>\n",
       "      <td>†</td>\n",
       "      <td>MD-16</td>\n",
       "      <td>MD-16-161350</td>\n",
       "    </tr>\n",
       "    <tr>\n",
       "      <th>2</th>\n",
       "      <td>ACHIEVEMENT ACADEMY @ HARBOR CITY HIGH</td>\n",
       "      <td>Maryland</td>\n",
       "      <td>9th Grade</td>\n",
       "      <td>12th Grade</td>\n",
       "      <td>411</td>\n",
       "      <td>411</td>\n",
       "      <td>=\"0\"</td>\n",
       "      <td>39.365730</td>\n",
       "      <td>-76.569931</td>\n",
       "      <td>2-No</td>\n",
       "      <td>2-No</td>\n",
       "      <td>2-No</td>\n",
       "      <td>11-City: Large</td>\n",
       "      <td>240009000236</td>\n",
       "      <td>Baltimore city</td>\n",
       "      <td>†</td>\n",
       "      <td>21214</td>\n",
       "      <td>11-City: Large</td>\n",
       "      <td>†</td>\n",
       "      <td>MD-30</td>\n",
       "      <td>MD-30-300413</td>\n",
       "    </tr>\n",
       "    <tr>\n",
       "      <th>3</th>\n",
       "      <td>ALBERT EINSTEIN HIGH</td>\n",
       "      <td>Maryland</td>\n",
       "      <td>9th Grade</td>\n",
       "      <td>12th Grade</td>\n",
       "      <td>1746</td>\n",
       "      <td>633</td>\n",
       "      <td>147</td>\n",
       "      <td>39.039079</td>\n",
       "      <td>-77.067288</td>\n",
       "      <td>2-No</td>\n",
       "      <td>2-No</td>\n",
       "      <td>2-No</td>\n",
       "      <td>21-Suburb: Large</td>\n",
       "      <td>240048000773</td>\n",
       "      <td>Montgomery County</td>\n",
       "      <td>†</td>\n",
       "      <td>20895</td>\n",
       "      <td>21-Suburb: Large</td>\n",
       "      <td>2-No</td>\n",
       "      <td>MD-15</td>\n",
       "      <td>MD-15-150789</td>\n",
       "    </tr>\n",
       "    <tr>\n",
       "      <th>4</th>\n",
       "      <td>ALLEGANY HIGH</td>\n",
       "      <td>Maryland</td>\n",
       "      <td>9th Grade</td>\n",
       "      <td>12th Grade</td>\n",
       "      <td>721</td>\n",
       "      <td>264</td>\n",
       "      <td>40</td>\n",
       "      <td>39.655478</td>\n",
       "      <td>-78.794695</td>\n",
       "      <td>2-No</td>\n",
       "      <td>2-No</td>\n",
       "      <td>2-No</td>\n",
       "      <td>13-City: Small</td>\n",
       "      <td>240003000001</td>\n",
       "      <td>Allegany County</td>\n",
       "      <td>†</td>\n",
       "      <td>21502</td>\n",
       "      <td>13-City: Small</td>\n",
       "      <td>†</td>\n",
       "      <td>MD-01</td>\n",
       "      <td>MD-01-010606</td>\n",
       "    </tr>\n",
       "    <tr>\n",
       "      <th>...</th>\n",
       "      <td>...</td>\n",
       "      <td>...</td>\n",
       "      <td>...</td>\n",
       "      <td>...</td>\n",
       "      <td>...</td>\n",
       "      <td>...</td>\n",
       "      <td>...</td>\n",
       "      <td>...</td>\n",
       "      <td>...</td>\n",
       "      <td>...</td>\n",
       "      <td>...</td>\n",
       "      <td>...</td>\n",
       "      <td>...</td>\n",
       "      <td>...</td>\n",
       "      <td>...</td>\n",
       "      <td>...</td>\n",
       "      <td>...</td>\n",
       "      <td>...</td>\n",
       "      <td>...</td>\n",
       "      <td>...</td>\n",
       "      <td>...</td>\n",
       "    </tr>\n",
       "    <tr>\n",
       "      <th>201</th>\n",
       "      <td>WILDE LAKE HIGH</td>\n",
       "      <td>Maryland</td>\n",
       "      <td>9th Grade</td>\n",
       "      <td>12th Grade</td>\n",
       "      <td>1291</td>\n",
       "      <td>427</td>\n",
       "      <td>61</td>\n",
       "      <td>39.217236</td>\n",
       "      <td>-76.872855</td>\n",
       "      <td>2-No</td>\n",
       "      <td>2-No</td>\n",
       "      <td>2-No</td>\n",
       "      <td>13-City: Small</td>\n",
       "      <td>240042000762</td>\n",
       "      <td>Howard County</td>\n",
       "      <td>†</td>\n",
       "      <td>21044</td>\n",
       "      <td>13-City: Small</td>\n",
       "      <td>2-No</td>\n",
       "      <td>MD-13</td>\n",
       "      <td>MD-13-130516</td>\n",
       "    </tr>\n",
       "    <tr>\n",
       "      <th>202</th>\n",
       "      <td>WILLIAMSPORT HIGH</td>\n",
       "      <td>Maryland</td>\n",
       "      <td>9th Grade</td>\n",
       "      <td>12th Grade</td>\n",
       "      <td>898</td>\n",
       "      <td>352</td>\n",
       "      <td>42</td>\n",
       "      <td>39.596554</td>\n",
       "      <td>-77.810195</td>\n",
       "      <td>2-No</td>\n",
       "      <td>2-No</td>\n",
       "      <td>2-No</td>\n",
       "      <td>22-Suburb: Mid-size</td>\n",
       "      <td>240066001295</td>\n",
       "      <td>Washington County</td>\n",
       "      <td>†</td>\n",
       "      <td>21795</td>\n",
       "      <td>22-Suburb: Mid-size</td>\n",
       "      <td>†</td>\n",
       "      <td>MD-21</td>\n",
       "      <td>MD-21-210204</td>\n",
       "    </tr>\n",
       "    <tr>\n",
       "      <th>203</th>\n",
       "      <td>WINSTON CHURCHILL HIGH</td>\n",
       "      <td>Maryland</td>\n",
       "      <td>9th Grade</td>\n",
       "      <td>12th Grade</td>\n",
       "      <td>2227</td>\n",
       "      <td>79</td>\n",
       "      <td>17</td>\n",
       "      <td>39.044068</td>\n",
       "      <td>-77.173033</td>\n",
       "      <td>2-No</td>\n",
       "      <td>2-No</td>\n",
       "      <td>2-No</td>\n",
       "      <td>21-Suburb: Large</td>\n",
       "      <td>240048000956</td>\n",
       "      <td>Montgomery County</td>\n",
       "      <td>†</td>\n",
       "      <td>20854</td>\n",
       "      <td>21-Suburb: Large</td>\n",
       "      <td>†</td>\n",
       "      <td>MD-15</td>\n",
       "      <td>MD-15-150602</td>\n",
       "    </tr>\n",
       "    <tr>\n",
       "      <th>204</th>\n",
       "      <td>WINTERS MILL HIGH</td>\n",
       "      <td>Maryland</td>\n",
       "      <td>9th Grade</td>\n",
       "      <td>12th Grade</td>\n",
       "      <td>1126</td>\n",
       "      <td>239</td>\n",
       "      <td>41</td>\n",
       "      <td>39.571290</td>\n",
       "      <td>-76.976617</td>\n",
       "      <td>2-No</td>\n",
       "      <td>2-No</td>\n",
       "      <td>2-No</td>\n",
       "      <td>41-Rural: Fringe</td>\n",
       "      <td>240021001185</td>\n",
       "      <td>Carroll County</td>\n",
       "      <td>†</td>\n",
       "      <td>21157</td>\n",
       "      <td>41-Rural: Fringe</td>\n",
       "      <td>†</td>\n",
       "      <td>MD-06</td>\n",
       "      <td>MD-06-060704</td>\n",
       "    </tr>\n",
       "    <tr>\n",
       "      <th>205</th>\n",
       "      <td>WOODLAWN HIGH CENTER FOR PRE-ENG. RES.</td>\n",
       "      <td>Maryland</td>\n",
       "      <td>9th Grade</td>\n",
       "      <td>12th Grade</td>\n",
       "      <td>1575</td>\n",
       "      <td>997</td>\n",
       "      <td>159</td>\n",
       "      <td>39.315184</td>\n",
       "      <td>-76.734817</td>\n",
       "      <td>1-Yes</td>\n",
       "      <td>2-No</td>\n",
       "      <td>2-No</td>\n",
       "      <td>21-Suburb: Large</td>\n",
       "      <td>240012000502</td>\n",
       "      <td>Baltimore County</td>\n",
       "      <td>†</td>\n",
       "      <td>21207</td>\n",
       "      <td>21-Suburb: Large</td>\n",
       "      <td>1-Yes</td>\n",
       "      <td>MD-03</td>\n",
       "      <td>MD-03-030172</td>\n",
       "    </tr>\n",
       "  </tbody>\n",
       "</table>\n",
       "<p>206 rows × 21 columns</p>\n",
       "</div>"
      ],
      "text/plain": [
       "                                school_name  ... state_school_id\n",
       "0                             ABERDEEN HIGH  ...    MD-12-120270\n",
       "1        ACADEMY OF HEALTH SCIENCES AT PGCC  ...    MD-16-161350\n",
       "2    ACHIEVEMENT ACADEMY @ HARBOR CITY HIGH  ...    MD-30-300413\n",
       "3                      ALBERT EINSTEIN HIGH  ...    MD-15-150789\n",
       "4                             ALLEGANY HIGH  ...    MD-01-010606\n",
       "..                                      ...  ...             ...\n",
       "201                         WILDE LAKE HIGH  ...    MD-13-130516\n",
       "202                       WILLIAMSPORT HIGH  ...    MD-21-210204\n",
       "203                  WINSTON CHURCHILL HIGH  ...    MD-15-150602\n",
       "204                       WINTERS MILL HIGH  ...    MD-06-060704\n",
       "205  WOODLAWN HIGH CENTER FOR PRE-ENG. RES.  ...    MD-03-030172\n",
       "\n",
       "[206 rows x 21 columns]"
      ]
     },
     "execution_count": 24,
     "metadata": {
      "tags": []
     },
     "output_type": "execute_result"
    }
   ],
   "source": [
    "## your answer is here\n",
    "merged_df=pd.merge(maryland_hs,dmv_hs) \n",
    "merged_df # Two schools are similar that s why 206 , 2 extra"
   ]
  },
  {
   "cell_type": "code",
   "execution_count": null,
   "metadata": {
    "id": "NlKiEquy6GFu"
   },
   "outputs": [],
   "source": [
    "#df.shape"
   ]
  },
  {
   "cell_type": "markdown",
   "metadata": {
    "id": "Y55yfHcGp8QS"
   },
   "source": [
    "## Problem"
   ]
  },
  {
   "cell_type": "markdown",
   "metadata": {
    "id": "I0Z2i2ekOSlB"
   },
   "source": [
    "For each county find the average number of students. Sort the result in an descending order.\n"
   ]
  },
  {
   "cell_type": "code",
   "execution_count": null,
   "metadata": {
    "id": "T81BsT9ppgP8"
   },
   "outputs": [],
   "source": [
    "## your answer is here\n",
    "df=merged_df.groupby('county_name')['total_students_all_grades'].mean()"
   ]
  },
  {
   "cell_type": "code",
   "execution_count": null,
   "metadata": {
    "colab": {
     "base_uri": "https://localhost:8080/"
    },
    "id": "cOad30J261ox",
    "outputId": "8af11668-e5e5-4ace-9eeb-ed226a012c2b"
   },
   "outputs": [
    {
     "data": {
      "text/plain": [
       "county_name\n",
       "Montgomery County         1972.600000\n",
       "Anne Arundel County       1761.230769\n",
       "St. Mary's County         1719.000000\n",
       "Howard County             1467.666667\n",
       "Prince George's County    1352.148148\n",
       "Calvert County            1279.750000\n",
       "Charles County            1211.000000\n",
       "Talbot County             1196.000000\n",
       "Queen Anne's County       1189.000000\n",
       "Baltimore County          1180.037037\n",
       "Frederick County          1172.000000\n",
       "Harford County            1124.500000\n",
       "Wicomico County            955.750000\n",
       "Cecil County               913.600000\n",
       "Carroll County             911.111111\n",
       "Washington County          850.285714\n",
       "Caroline County            823.500000\n",
       "Allegany County            742.666667\n",
       "Baltimore city             704.346154\n",
       "Worcester County           672.666667\n",
       "Dorchester County          656.000000\n",
       "Garrett County             577.000000\n",
       "Kent County                563.000000\n",
       "Name: total_students_all_grades, dtype: float64"
      ]
     },
     "execution_count": 28,
     "metadata": {
      "tags": []
     },
     "output_type": "execute_result"
    }
   ],
   "source": [
    "df.sort_values(ascending=False)"
   ]
  },
  {
   "cell_type": "markdown",
   "metadata": {
    "id": "8AuBnDdnqTbs"
   },
   "source": [
    "## Problem"
   ]
  },
  {
   "cell_type": "markdown",
   "metadata": {
    "id": "QR3TvxIEqVBZ"
   },
   "source": [
    "For each school find the ratio of `free_and_reduced_lunch_students` to the total number of students who are in the same __zipcode__ with this school. Record these values in a new column named `ratio`. Suppose in high school A there are 13 students eligile for free and reduced lunch and the zipcode of the school is 20001. If there is total of 200 students in the zipcode 20001 then for High School A your code should return 13/200. Hint: We used similar method at the end of sixth class."
   ]
  },
  {
   "cell_type": "code",
   "execution_count": null,
   "metadata": {
    "id": "DNPY8S5kXXBE"
   },
   "outputs": [],
   "source": [
    "#merged_df['location_zip'][0]\n",
    "ratio=[]\n",
    "for i in range(0,len(merged_df['location_zip'])):\n",
    "  #print(merged_df['school_name'][i])\n",
    "  merged_df['ratio']=(merged_df[merged_df.location_zip == merged_df['location_zip'][i]]['free_and_reduced_lunch_students'])/ (merged_df[merged_df.location_zip == merged_df['location_zip'][i]].total_students_all_grades.sum())\n",
    "  #i+=1"
   ]
  },
  {
   "cell_type": "code",
   "execution_count": null,
   "metadata": {
    "colab": {
     "base_uri": "https://localhost:8080/"
    },
    "id": "Ab0slE8JbPc-",
    "outputId": "431560cd-26df-42c9-c2ee-1df7203be674"
   },
   "outputs": [
    {
     "data": {
      "text/plain": [
       "0           NaN\n",
       "1           NaN\n",
       "2           NaN\n",
       "3           NaN\n",
       "4           NaN\n",
       "         ...   \n",
       "201         NaN\n",
       "202         NaN\n",
       "203         NaN\n",
       "204         NaN\n",
       "205    0.292805\n",
       "Name: ratio, Length: 206, dtype: float64"
      ]
     },
     "execution_count": 33,
     "metadata": {
      "tags": []
     },
     "output_type": "execute_result"
    }
   ],
   "source": [
    "merged_df['ratio']"
   ]
  },
  {
   "cell_type": "code",
   "execution_count": null,
   "metadata": {
    "colab": {
     "base_uri": "https://localhost:8080/"
    },
    "id": "55SMBbEyh5zt",
    "outputId": "c94770aa-aff1-4f48-dd5c-c7a4e7e5edf4"
   },
   "outputs": [
    {
     "data": {
      "text/plain": [
       "[None,\n",
       " None,\n",
       " None,\n",
       " None,\n",
       " None,\n",
       " None,\n",
       " None,\n",
       " None,\n",
       " None,\n",
       " None,\n",
       " None,\n",
       " None,\n",
       " None,\n",
       " None,\n",
       " None,\n",
       " None,\n",
       " None,\n",
       " None,\n",
       " None,\n",
       " None,\n",
       " None,\n",
       " None,\n",
       " None,\n",
       " None,\n",
       " None,\n",
       " None,\n",
       " None,\n",
       " None,\n",
       " None,\n",
       " None,\n",
       " None,\n",
       " None,\n",
       " None,\n",
       " None,\n",
       " None,\n",
       " None,\n",
       " None,\n",
       " None,\n",
       " None,\n",
       " None,\n",
       " None,\n",
       " None,\n",
       " None,\n",
       " None,\n",
       " None,\n",
       " None,\n",
       " None,\n",
       " None,\n",
       " None,\n",
       " None,\n",
       " None,\n",
       " None,\n",
       " None,\n",
       " None,\n",
       " None,\n",
       " None,\n",
       " None,\n",
       " None,\n",
       " None,\n",
       " None,\n",
       " None,\n",
       " None,\n",
       " None,\n",
       " None,\n",
       " None,\n",
       " None,\n",
       " None,\n",
       " None,\n",
       " None,\n",
       " None,\n",
       " None,\n",
       " None,\n",
       " None,\n",
       " None,\n",
       " None,\n",
       " None,\n",
       " None,\n",
       " None,\n",
       " None,\n",
       " None,\n",
       " None,\n",
       " None,\n",
       " None,\n",
       " None,\n",
       " None,\n",
       " None,\n",
       " None,\n",
       " None,\n",
       " None,\n",
       " None,\n",
       " None,\n",
       " None,\n",
       " None,\n",
       " None,\n",
       " None,\n",
       " None,\n",
       " None,\n",
       " None,\n",
       " None,\n",
       " None,\n",
       " None,\n",
       " None,\n",
       " None,\n",
       " None,\n",
       " None,\n",
       " None,\n",
       " None,\n",
       " None,\n",
       " None,\n",
       " None,\n",
       " None,\n",
       " None,\n",
       " None,\n",
       " None,\n",
       " None,\n",
       " None,\n",
       " None,\n",
       " None,\n",
       " None,\n",
       " None,\n",
       " None,\n",
       " None,\n",
       " None,\n",
       " None,\n",
       " None,\n",
       " None,\n",
       " None,\n",
       " None,\n",
       " None,\n",
       " None,\n",
       " None,\n",
       " None,\n",
       " None,\n",
       " None,\n",
       " None,\n",
       " None,\n",
       " None,\n",
       " None,\n",
       " None,\n",
       " None,\n",
       " None,\n",
       " None,\n",
       " None,\n",
       " None,\n",
       " None,\n",
       " None,\n",
       " None,\n",
       " None,\n",
       " None,\n",
       " None,\n",
       " None,\n",
       " None,\n",
       " None,\n",
       " None,\n",
       " None,\n",
       " None,\n",
       " None,\n",
       " None,\n",
       " None,\n",
       " None,\n",
       " None,\n",
       " None,\n",
       " None,\n",
       " None,\n",
       " None,\n",
       " None,\n",
       " None,\n",
       " None,\n",
       " None,\n",
       " None,\n",
       " None,\n",
       " None,\n",
       " None,\n",
       " None,\n",
       " None,\n",
       " None,\n",
       " None,\n",
       " None,\n",
       " None,\n",
       " None,\n",
       " None,\n",
       " None,\n",
       " None,\n",
       " None,\n",
       " None,\n",
       " None,\n",
       " None,\n",
       " None,\n",
       " None,\n",
       " None,\n",
       " None,\n",
       " None,\n",
       " None,\n",
       " None,\n",
       " None,\n",
       " None,\n",
       " None,\n",
       " None,\n",
       " None,\n",
       " None,\n",
       " None,\n",
       " None,\n",
       " None,\n",
       " None,\n",
       " None,\n",
       " None]"
      ]
     },
     "execution_count": 45,
     "metadata": {
      "tags": []
     },
     "output_type": "execute_result"
    }
   ],
   "source": [
    "ratio"
   ]
  },
  {
   "cell_type": "code",
   "execution_count": null,
   "metadata": {
    "id": "LTd3e1Csg4VT"
   },
   "outputs": [],
   "source": [
    "merged_df['ratio']=(merged_df[merged_df.location_zip == merged_df['location_zip'][i]]['free_and_reduced_lunch_students'])/ (merged_df[merged_df.location_zip == merged_df['location_zip'][i]].total_students_all_grades.sum())\n",
    "  #i+=1"
   ]
  },
  {
   "cell_type": "code",
   "execution_count": null,
   "metadata": {
    "id": "Q-ipOx3iSvp3"
   },
   "outputs": [],
   "source": [
    "## Double Check for the zipcode 21157\n",
    "merged_df[merged_df.location_zip == 21157]['free_and_reduced_lunch_students']/ merged_df[merged_df.location_zip == 21157].total_students_all_grades.sum()"
   ]
  },
  {
   "cell_type": "code",
   "execution_count": null,
   "metadata": {
    "id": "qlmlXvKXS38g"
   },
   "outputs": [],
   "source": [
    "## This cell should produce the same result as above.\n",
    "merged_df[merged_df.location_zip == 21157].ratio"
   ]
  },
  {
   "cell_type": "markdown",
   "metadata": {
    "id": "3Aor8jmnWp9S"
   },
   "source": [
    "# Part-III: Submitting Your Work"
   ]
  },
  {
   "cell_type": "markdown",
   "metadata": {
    "id": "RM0pe6yUajRN"
   },
   "source": [
    "[Please Submit Your Work to This Google Form](https://forms.gle/XgA7W56KuFAASYgJ9)"
   ]
  }
 ],
 "metadata": {
  "colab": {
   "collapsed_sections": [],
   "name": "Nimmani_Vyshnavi.ipynb",
   "provenance": []
  },
  "kernelspec": {
   "display_name": "Python 3",
   "language": "python",
   "name": "python3"
  },
  "language_info": {
   "codemirror_mode": {
    "name": "ipython",
    "version": 3
   },
   "file_extension": ".py",
   "mimetype": "text/x-python",
   "name": "python",
   "nbconvert_exporter": "python",
   "pygments_lexer": "ipython3",
   "version": "3.7.3"
  }
 },
 "nbformat": 4,
 "nbformat_minor": 1
}
